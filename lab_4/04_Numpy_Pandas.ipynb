{
 "cells": [
  {
   "cell_type": "markdown",
   "metadata": {},
   "source": [
    "# Session 4: Numpy and Pandas"
   ]
  },
  {
   "cell_type": "markdown",
   "metadata": {},
   "source": [
    "## Numpy"
   ]
  },
  {
   "cell_type": "markdown",
   "metadata": {},
   "source": [
    "Python lists are easy to use and versatile. Once you've mastered the basic syntax, array stuff in other languages will quickly become annoying. \n",
    "\n",
    "However, the downside of this flexibility is poor performance as the data cannot be efficiently arranged in the memory, nor vectorized or parallelized in obvious ways to support modern SIMD instruction extensions such as AVX2. This is where ``Numpy`` shines: Its goal is not only to provide methods and functions to simplify various sorts of everyday numerical operations, but also to provide a new data type that trades back a little bit of flexibility for a huge performance plus. Instead of lists, numpy uses arrays with a fixed data type such as ``double`` or ``int``. Python lists can directly be converted into arrays:"
   ]
  },
  {
   "cell_type": "code",
   "execution_count": 2,
   "metadata": {},
   "outputs": [],
   "source": [
    "import numpy as np\n",
    "\n",
    "ints = np.array( [1,1,2,3,5] )\n",
    "floats = np.array( [1.,1.,2.,3.,5.] )"
   ]
  },
  {
   "cell_type": "markdown",
   "metadata": {},
   "source": [
    "Accessing one-dimensional arrays is just like accessing list elements:"
   ]
  },
  {
   "cell_type": "code",
   "execution_count": 3,
   "metadata": {},
   "outputs": [
    {
     "name": "stdout",
     "output_type": "stream",
     "text": [
      "[1 1 2 3 5]\n",
      "1\n",
      "5.0\n",
      "[1. 2.]\n"
     ]
    }
   ],
   "source": [
    "print(ints)\n",
    "print(ints[0])\n",
    "print(floats[-1])\n",
    "print(floats[1:3])"
   ]
  },
  {
   "cell_type": "markdown",
   "metadata": {},
   "source": [
    "Nested lists can be converted into 2d arrays. Accessing elements in such higher-dimensional arrays works similar like accessing nested lists, but we only have one set of brackets with comma-separated indices:"
   ]
  },
  {
   "cell_type": "code",
   "execution_count": 4,
   "metadata": {},
   "outputs": [
    {
     "name": "stdout",
     "output_type": "stream",
     "text": [
      "[[1 2 3]\n",
      " [4 5 6]\n",
      " [7 8 9]]\n",
      "\n",
      "(3, 3)\n",
      "\n",
      "1\n",
      "2\n",
      "\n",
      "[1 4 7]\n",
      "[1 2 3]\n",
      "\n",
      "[[1 2]\n",
      " [4 5]]\n"
     ]
    }
   ],
   "source": [
    "mat = np.array( [[1,2,3],[4,5,6],[7,8,9]] )\n",
    "\n",
    "print(mat)\n",
    "print()\n",
    "print(mat.shape)\n",
    "print()\n",
    "print(mat[0,0])\n",
    "print(mat[0,1])\n",
    "print()\n",
    "print(mat[:,0])\n",
    "print(mat[0,:])\n",
    "print()\n",
    "print(mat[0:2,0:2])"
   ]
  },
  {
   "cell_type": "markdown",
   "metadata": {},
   "source": [
    "Elements can also be selected based on some condition:"
   ]
  },
  {
   "cell_type": "code",
   "execution_count": 5,
   "metadata": {},
   "outputs": [
    {
     "name": "stdout",
     "output_type": "stream",
     "text": [
      "(4,)\n",
      "[2 4 6 8]\n"
     ]
    }
   ],
   "source": [
    "sub = mat[mat%2==0]\n",
    "\n",
    "print( sub.shape )\n",
    "print( sub )"
   ]
  },
  {
   "cell_type": "markdown",
   "metadata": {},
   "source": [
    "The data type is chosen automatically but can also be set explicitly. To check the datatype, check the ``dtype`` attribute:"
   ]
  },
  {
   "cell_type": "code",
   "execution_count": 6,
   "metadata": {},
   "outputs": [
    {
     "name": "stdout",
     "output_type": "stream",
     "text": [
      "int64\n",
      "float64\n"
     ]
    }
   ],
   "source": [
    "print(ints.dtype)\n",
    "print(floats.dtype)"
   ]
  },
  {
   "cell_type": "markdown",
   "metadata": {},
   "source": [
    "To create an array of zeros with some given dimensionality, use the ``zeros`` function:"
   ]
  },
  {
   "cell_type": "code",
   "execution_count": 7,
   "metadata": {},
   "outputs": [
    {
     "name": "stdout",
     "output_type": "stream",
     "text": [
      "[0. 0. 0. 0. 0.]\n",
      "float64\n",
      "\n",
      "[[0 0 0]\n",
      " [0 0 0]]\n",
      "(2, 3)\n",
      "int64\n"
     ]
    }
   ],
   "source": [
    "arr0 = np.zeros(5)\n",
    "arr1 = np.zeros([2,3], dtype=\"int\")\n",
    "\n",
    "print(arr0)\n",
    "print(arr0.dtype)\n",
    "print()\n",
    "print(arr1)\n",
    "print(arr1.shape)\n",
    "print(arr1.dtype)"
   ]
  },
  {
   "cell_type": "markdown",
   "metadata": {},
   "source": [
    "The default datatype is ``float64`` aka ``double``. To pre-set an array with ones instead of zeros, use the ``ones`` method while ``empty`` returns an un-initialized array. ``fill`` allows you to initialize an array with given dimension and some default value.\n",
    "\n",
    "Naturally, ``Numpy`` has built-in functions to create linearly spaced elements. The two most common ones used are ``arange`` and ``linspace``:"
   ]
  },
  {
   "cell_type": "code",
   "execution_count": 8,
   "metadata": {},
   "outputs": [
    {
     "name": "stdout",
     "output_type": "stream",
     "text": [
      "[0.  0.5 1.  1.5 2.  2.5 3.  3.5 4.  4.5] 10\n",
      "[0.  0.5 1.  1.5 2.  2.5 3.  3.5 4.  4.5 5. ] 11\n"
     ]
    }
   ],
   "source": [
    "vals1 = np.arange(0,5,0.5) # Just like the range function, but also works with float spacing\n",
    "vals2 = np.linspace(0,5,11) # Generate 11 values between 0. and 5., including the borders\n",
    "\n",
    "print(vals1, len(vals1))\n",
    "print(vals2, len(vals2))"
   ]
  },
  {
   "cell_type": "markdown",
   "metadata": {},
   "source": [
    "Where ``Numpy`` really shines is its support for all-array vector operations. For every mathematical function in Pythons ``math`` library there is a ``Numpy`` equivalent with the same name. As the ``Numpy`` functions also support normal datatypes such as integers, floats and lists, and generally give better performance thanks to the ```Intel Math Kernel Library (MKL)```, I recommend using the ``Numpy`` functions:"
   ]
  },
  {
   "cell_type": "code",
   "execution_count": 35,
   "metadata": {},
   "outputs": [
    {
     "name": "stdout",
     "output_type": "stream",
     "text": [
      "[0. 1. 2. 3. 4.] [ 0.          0.84147098  0.90929743  0.14112001 -0.7568025 ]\n"
     ]
    }
   ],
   "source": [
    "def f(x):\n",
    "    return np.sin(x)\n",
    "\n",
    "x = np.arange(0.,5.,1)\n",
    "y = f(x) # The function f is applied to all values in the array x\n",
    "print(x,y)"
   ]
  },
  {
   "cell_type": "markdown",
   "metadata": {},
   "source": [
    "As you might have expected, ``Numpy`` arrays are compatible with ``Matplotlib``.\n",
    "\n",
    "Thanks to ``Numpy``, we can manipulate entire arrays in a single line of code:"
   ]
  },
  {
   "cell_type": "code",
   "execution_count": 10,
   "metadata": {},
   "outputs": [
    {
     "name": "stdout",
     "output_type": "stream",
     "text": [
      "[0.         1.         1.41421356 1.73205081 2.         2.23606798\n",
      " 2.44948974 2.64575131 2.82842712 3.         3.16227766 3.31662479\n",
      " 3.46410162 3.60555128 3.74165739 3.87298335 4.         4.12310563\n",
      " 4.24264069 4.35889894 4.47213595 4.58257569 4.69041576 4.79583152\n",
      " 4.89897949 5.         5.09901951 5.19615242 5.29150262 5.38516481]\n"
     ]
    }
   ],
   "source": [
    "x = x**2 + y + 3. # Square every entry of x, add y element-wise and add 3 to every element\n",
    "z = np.sqrt(np.arange(0,30,1))\n",
    "print(z)"
   ]
  },
  {
   "cell_type": "markdown",
   "metadata": {},
   "source": [
    "Numpy provides a plethora of all-array functions that help to get a first impression of the data:"
   ]
  },
  {
   "cell_type": "code",
   "execution_count": 11,
   "metadata": {},
   "outputs": [
    {
     "name": "stdout",
     "output_type": "stream",
     "text": [
      "Maximum: 5.385165\n",
      "Minimum: 0.000000\n",
      "Sum: 106.605620\n",
      "Average: 3.553521\n",
      "Standard deviation: 1.368390\n",
      "Median: 3.807320\n"
     ]
    }
   ],
   "source": [
    "print(\"Maximum: {0:f}\".format(np.max(z)))\n",
    "print(\"Minimum: {0:f}\".format(np.min(z)))\n",
    "print(\"Sum: {0:f}\".format(np.sum(z)))\n",
    "print(\"Average: {0:f}\".format(np.mean(z)))\n",
    "print(\"Standard deviation: {0:f}\".format(np.std(z)))\n",
    "print(\"Median: {0:f}\".format(np.median(z)))"
   ]
  },
  {
   "cell_type": "markdown",
   "metadata": {},
   "source": [
    "``Numpy`` also provides solutions for your everyday linear algebra problems:"
   ]
  },
  {
   "cell_type": "code",
   "execution_count": 12,
   "metadata": {},
   "outputs": [
    {
     "name": "stdout",
     "output_type": "stream",
     "text": [
      "Cross-product of vectors A and B: [  3 -14  -5]\n",
      "Matrix A times vector A: \n",
      " [21 20 42]\n",
      "Matrix A squared: \n",
      " [[ 21  -8  35]\n",
      " [ 20  -5  26]\n",
      " [ 42 -16  70]]\n",
      "Determinant of Matrix A: 0.0\n"
     ]
    }
   ],
   "source": [
    "vecA = np.array( [2,-1,4] )\n",
    "vecB = np.array( [-1,-2,5] )\n",
    "\n",
    "matA = np.array( [[2,-1,4],[-1,-2,5],[4,-2,8]] )\n",
    "\n",
    "print(\"Cross-product of vectors A and B:\", np.cross(vecA,vecB))\n",
    "print(\"Matrix A times vector A: \\n\", np.dot(matA, vecA))\n",
    "print(\"Matrix A squared: \\n\", np.dot(matA, matA))\n",
    "print(\"Determinant of Matrix A:\", np.linalg.det(matA))"
   ]
  },
  {
   "cell_type": "markdown",
   "metadata": {},
   "source": [
    "``Numpy`` also provides functions to get data into files and back into your RAM:"
   ]
  },
  {
   "cell_type": "code",
   "execution_count": 13,
   "metadata": {},
   "outputs": [
    {
     "name": "stdout",
     "output_type": "stream",
     "text": [
      "(100, 7)\n"
     ]
    }
   ],
   "source": [
    "def poly(x,a):\n",
    "    return x**a\n",
    "\n",
    "x = np.arange(0,1,0.01)\n",
    "a = np.arange(0,3.5,0.5)\n",
    "\n",
    "lines = len(x)\n",
    "cols = len(a)\n",
    "data = np.zeros( [lines,cols] )\n",
    "print(data.shape)\n",
    "\n",
    "for i in range(lines):\n",
    "    for j in range(cols):\n",
    "        data[i,j] = poly(x[i],a[j])\n"
   ]
  },
  {
   "cell_type": "code",
   "execution_count": 14,
   "metadata": {},
   "outputs": [
    {
     "name": "stdout",
     "output_type": "stream",
     "text": [
      "(100, 8)\n"
     ]
    }
   ],
   "source": [
    "dataExp = np.insert(data,0,x,axis=1) # Append x values as first column\n",
    "\n",
    "print(dataExp.shape)\n",
    "\n",
    "np.savetxt(\"data.txt\", dataExp) #np.save >>> saves in binary, nicer/less overhead when work is internal and humans won't look at it"
   ]
  },
  {
   "cell_type": "code",
   "execution_count": 15,
   "metadata": {},
   "outputs": [
    {
     "name": "stdout",
     "output_type": "stream",
     "text": [
      "(100, 8)\n"
     ]
    }
   ],
   "source": [
    "data = np.loadtxt(\"data.txt\")\n",
    "\n",
    "print(data.shape)"
   ]
  },
  {
   "cell_type": "code",
   "execution_count": 16,
   "metadata": {},
   "outputs": [
    {
     "name": "stdout",
     "output_type": "stream",
     "text": [
      "[0.         0.1        0.14142136 0.17320508 0.2        0.2236068\n",
      " 0.24494897 0.26457513 0.28284271 0.3        0.31622777 0.33166248\n",
      " 0.34641016 0.36055513 0.37416574 0.38729833 0.4        0.41231056\n",
      " 0.42426407 0.43588989 0.4472136  0.45825757 0.46904158 0.47958315\n",
      " 0.48989795 0.5        0.50990195 0.51961524 0.52915026 0.53851648\n",
      " 0.54772256 0.55677644 0.56568542 0.57445626 0.58309519 0.59160798\n",
      " 0.6        0.60827625 0.6164414  0.6244998  0.63245553 0.64031242\n",
      " 0.64807407 0.65574385 0.66332496 0.67082039 0.678233   0.68556546\n",
      " 0.69282032 0.7        0.70710678 0.71414284 0.72111026 0.72801099\n",
      " 0.73484692 0.74161985 0.74833148 0.75498344 0.76157731 0.76811457\n",
      " 0.77459667 0.78102497 0.78740079 0.79372539 0.8        0.80622577\n",
      " 0.81240384 0.81853528 0.82462113 0.83066239 0.83666003 0.84261498\n",
      " 0.84852814 0.85440037 0.86023253 0.8660254  0.87177979 0.87749644\n",
      " 0.88317609 0.88881944 0.89442719 0.9        0.90553851 0.91104336\n",
      " 0.91651514 0.92195445 0.92736185 0.93273791 0.93808315 0.94339811\n",
      " 0.9486833  0.9539392  0.9591663  0.96436508 0.96953597 0.97467943\n",
      " 0.9797959  0.98488578 0.98994949 0.99498744]\n"
     ]
    }
   ],
   "source": [
    "x = data[:,0] # Extract the first column\n",
    "\n",
    "sqt = data[:,2] # Extract the third column\n",
    "lin = data[:,3]\n",
    "quad = data[:,5]\n",
    "\n",
    "print(sqt)"
   ]
  },
  {
   "cell_type": "markdown",
   "metadata": {},
   "source": [
    "# Pandas"
   ]
  },
  {
   "cell_type": "markdown",
   "metadata": {},
   "source": [
    "``Numpy`` is just perfect when you're dealing with purely numerical data. But in the real-world, datasets regularly contain string-type arguments such as the date or some category which makes getting the data into your Python program somewhat more tricky (see ``np.genfromtxt``). In addition, working with ``Numpy`` indices feels more like C (or Fortran...) and is not entirely in line with *the zen of Python*, where we can work with such beautiful data structures as dictionaries that allow us to access data based on strings instead of indices. For instance, for a Python purist data in the popular CSV (comma-separated values) format seems to be predestined for reading into a dictionary where every column forms a list and can be accessed via the column header specified in the first line of the file: "
   ]
  },
  {
   "cell_type": "markdown",
   "metadata": {},
   "source": [
    "![CSV Header in Notepad++](csv_header.PNG \"Title\")"
   ]
  },
  {
   "cell_type": "markdown",
   "metadata": {},
   "source": [
    "Here, we are dealing with time information in the English date format, floats, integers and nulls indicating days with either no trading or simply missing information. Python lists are flexible enough to deal with either, a simple function that does the trick of reading a CSV file into a dictionary just takes a few lines:"
   ]
  },
  {
   "cell_type": "code",
   "execution_count": 17,
   "metadata": {},
   "outputs": [],
   "source": [
    "def loadCSV(fname):\n",
    "    data = {}\n",
    "    with open(fname, \"r\") as file:\n",
    "        header = file.readline().rstrip().split(\",\")\n",
    "        for head in header:\n",
    "            data[head] = []\n",
    "        for line in file:\n",
    "            cols = line.rstrip().split(\",\")\n",
    "            for col in zip(header,cols):\n",
    "                try:\n",
    "                    data[col[0]].append(float(col[1]))\n",
    "                except:\n",
    "                    data[col[0]].append(col[1])\n",
    "    return data"
   ]
  },
  {
   "cell_type": "markdown",
   "metadata": {},
   "source": [
    "Detecting the correct data type is where things start to get a little bit annoying, so I have even included some runtime error-checking to automatically convert all kinds of numerical data into floats with strings being the fallback option in case that the conversion fails."
   ]
  },
  {
   "cell_type": "code",
   "execution_count": 18,
   "metadata": {},
   "outputs": [
    {
     "name": "stdout",
     "output_type": "stream",
     "text": [
      "Dictionary keys: dict_keys(['Date', 'Open', 'High', 'Low', 'Close', 'Adj Close', 'Volume'])\n"
     ]
    }
   ],
   "source": [
    "data = loadCSV(\"Gold.csv\")\n",
    "\n",
    "print(\"Dictionary keys:\", data.keys())"
   ]
  },
  {
   "cell_type": "markdown",
   "metadata": {},
   "source": [
    "Accessing and inspecting the data dictionary is convenient and straight-forward, we can even do some basic statistics:"
   ]
  },
  {
   "cell_type": "code",
   "execution_count": 19,
   "metadata": {},
   "outputs": [
    {
     "name": "stdout",
     "output_type": "stream",
     "text": [
      "Start date: 2000-08-30\n",
      "End date: 2021-03-15\n",
      "Number of entries: 5231\n",
      "Missing entries 112\n"
     ]
    }
   ],
   "source": [
    "print(\"Start date:\", data[\"Date\"][0])\n",
    "print(\"End date:\", data[\"Date\"][-1])\n",
    "print(\"Number of entries:\", len(data[\"Date\"]))\n",
    "print(\"Missing entries\", data[\"Open\"].count(\"null\"))"
   ]
  },
  {
   "cell_type": "markdown",
   "metadata": {},
   "source": [
    "More advanced numerical analysis fails because we're mixing floats and strings even within one column of data, so we would need to clean up our data dictionary first. But even then, stuff as list comprehensions over several columns quickly gets tiresome and brings back stuff, that we wanted to avoid: Working with indices ... \n",
    "\n",
    "Thankfully, Python provides a library that combines the speed of ``numpy`` with the flexibility and readability of simple Python structures: ``Pandas`` which is short for *Python Data Analysis Library*. Everything revolves around dataframes which consist of series, roughly equivalent to tables and columns. A dataframe can be created from nested lists where every element of the main list represents one line of the table. Pandas takes the column headers as a list of strings and creates a nice table:"
   ]
  },
  {
   "cell_type": "code",
   "execution_count": 20,
   "metadata": {
    "tags": []
   },
   "outputs": [
    {
     "name": "stdout",
     "output_type": "stream",
     "text": [
      "      Month  Profit  Debt\n",
      "0  Jan-2021     638 -3554\n",
      "1  Feb-2021     436 -3145\n",
      "2  Mar-2021     887 -2901\n"
     ]
    }
   ],
   "source": [
    "import pandas as pd\n",
    "\n",
    "month = [\"Jan-2021\", \"Feb-2021\", \"Mar-2021\"]\n",
    "profit = [638, 436, 887]\n",
    "debt = [-3554, -3145, -2901]\n",
    "\n",
    "someData = list(zip(month,profit,debt))\n",
    "\n",
    "df = pd.DataFrame(someData,columns=[\"Month\",\"Profit\",\"Debt\"])\n",
    "print(df)"
   ]
  },
  {
   "cell_type": "markdown",
   "metadata": {},
   "source": [
    "Dictionaries can be directly converted into dataframes:"
   ]
  },
  {
   "cell_type": "code",
   "execution_count": 21,
   "metadata": {},
   "outputs": [
    {
     "name": "stdout",
     "output_type": "stream",
     "text": [
      "            Date         Open         High          Low        Close  \\\n",
      "0     2000-08-30   273.899994   273.899994   273.899994   273.899994   \n",
      "1     2000-08-31   274.799988   278.299988   274.799988   278.299988   \n",
      "2     2000-09-01        277.0        277.0        277.0        277.0   \n",
      "3     2000-09-04         null         null         null         null   \n",
      "4     2000-09-05   275.799988   275.799988   275.799988   275.799988   \n",
      "...          ...          ...          ...          ...          ...   \n",
      "5226  2021-03-09  1686.199951       1717.5  1685.199951  1716.599976   \n",
      "5227  2021-03-10  1713.599976  1722.900024       1711.0       1721.5   \n",
      "5228  2021-03-11  1725.599976       1737.5  1720.199951  1722.300049   \n",
      "5229  2021-03-12  1715.900024       1722.5       1699.0       1719.5   \n",
      "5230  2021-03-15       1729.5  1731.900024  1722.800049  1728.900024   \n",
      "\n",
      "        Adj Close Volume  \n",
      "0      273.899994    0.0  \n",
      "1      278.299988    0.0  \n",
      "2           277.0    0.0  \n",
      "3            null   null  \n",
      "4      275.799988    2.0  \n",
      "...           ...    ...  \n",
      "5226  1716.599976  335.0  \n",
      "5227       1721.5  412.0  \n",
      "5228  1722.300049   18.0  \n",
      "5229       1719.5   80.0  \n",
      "5230  1728.900024   80.0  \n",
      "\n",
      "[5231 rows x 7 columns]\n"
     ]
    }
   ],
   "source": [
    "df = pd.DataFrame(data)\n",
    "print(df)"
   ]
  },
  {
   "cell_type": "markdown",
   "metadata": {},
   "source": [
    "Among other file types such as JSON, XLS, ODS or HDF5, CSV files can be directly read into a dateframe, followed by a call to the ``info`` method to get some basic information regarding the structure of the data:"
   ]
  },
  {
   "cell_type": "code",
   "execution_count": 22,
   "metadata": {},
   "outputs": [
    {
     "name": "stdout",
     "output_type": "stream",
     "text": [
      "<class 'pandas.core.frame.DataFrame'>\n",
      "RangeIndex: 5231 entries, 0 to 5230\n",
      "Data columns (total 7 columns):\n",
      " #   Column     Non-Null Count  Dtype  \n",
      "---  ------     --------------  -----  \n",
      " 0   Date       5231 non-null   object \n",
      " 1   Open       5119 non-null   float64\n",
      " 2   High       5119 non-null   float64\n",
      " 3   Low        5119 non-null   float64\n",
      " 4   Close      5119 non-null   float64\n",
      " 5   Adj Close  5119 non-null   float64\n",
      " 6   Volume     5119 non-null   float64\n",
      "dtypes: float64(6), object(1)\n",
      "memory usage: 286.2+ KB\n",
      "None\n"
     ]
    }
   ],
   "source": [
    "df = pd.read_csv(\"Gold.csv\")\n",
    "print(df.info()) #info method provides with some info of data"
   ]
  },
  {
   "cell_type": "markdown",
   "metadata": {},
   "source": [
    "Pandas automatically detected a total of 5231 dates with the generic datatype *object* in column 0, 5119 non-null values in columns 1 to 6 and set the datatype of these columns to float64. For numerical data, die ```describe``` method is a good start:"
   ]
  },
  {
   "cell_type": "code",
   "execution_count": 36,
   "metadata": {},
   "outputs": [
    {
     "data": {
      "text/html": [
       "<div>\n",
       "<style scoped>\n",
       "    .dataframe tbody tr th:only-of-type {\n",
       "        vertical-align: middle;\n",
       "    }\n",
       "\n",
       "    .dataframe tbody tr th {\n",
       "        vertical-align: top;\n",
       "    }\n",
       "\n",
       "    .dataframe thead th {\n",
       "        text-align: right;\n",
       "    }\n",
       "</style>\n",
       "<table border=\"1\" class=\"dataframe\">\n",
       "  <thead>\n",
       "    <tr style=\"text-align: right;\">\n",
       "      <th></th>\n",
       "      <th>Open</th>\n",
       "      <th>High</th>\n",
       "      <th>Low</th>\n",
       "      <th>Close</th>\n",
       "      <th>Adj Close</th>\n",
       "      <th>Volume</th>\n",
       "    </tr>\n",
       "  </thead>\n",
       "  <tbody>\n",
       "    <tr>\n",
       "      <th>count</th>\n",
       "      <td>5119.000000</td>\n",
       "      <td>5119.000000</td>\n",
       "      <td>5119.000000</td>\n",
       "      <td>5119.000000</td>\n",
       "      <td>5119.000000</td>\n",
       "      <td>5119.000000</td>\n",
       "    </tr>\n",
       "    <tr>\n",
       "      <th>mean</th>\n",
       "      <td>1005.549971</td>\n",
       "      <td>1010.648779</td>\n",
       "      <td>1000.035202</td>\n",
       "      <td>1005.395663</td>\n",
       "      <td>1005.395663</td>\n",
       "      <td>4251.674741</td>\n",
       "    </tr>\n",
       "    <tr>\n",
       "      <th>std</th>\n",
       "      <td>483.697976</td>\n",
       "      <td>486.674546</td>\n",
       "      <td>480.318095</td>\n",
       "      <td>483.531524</td>\n",
       "      <td>483.531524</td>\n",
       "      <td>24553.064309</td>\n",
       "    </tr>\n",
       "    <tr>\n",
       "      <th>min</th>\n",
       "      <td>255.000000</td>\n",
       "      <td>256.100006</td>\n",
       "      <td>255.000000</td>\n",
       "      <td>255.100006</td>\n",
       "      <td>255.100006</td>\n",
       "      <td>0.000000</td>\n",
       "    </tr>\n",
       "    <tr>\n",
       "      <th>25%</th>\n",
       "      <td>468.299988</td>\n",
       "      <td>469.099991</td>\n",
       "      <td>467.800003</td>\n",
       "      <td>468.250000</td>\n",
       "      <td>468.250000</td>\n",
       "      <td>17.000000</td>\n",
       "    </tr>\n",
       "    <tr>\n",
       "      <th>50%</th>\n",
       "      <td>1162.500000</td>\n",
       "      <td>1168.599976</td>\n",
       "      <td>1154.900024</td>\n",
       "      <td>1162.800049</td>\n",
       "      <td>1162.800049</td>\n",
       "      <td>93.000000</td>\n",
       "    </tr>\n",
       "    <tr>\n",
       "      <th>75%</th>\n",
       "      <td>1326.500000</td>\n",
       "      <td>1331.549988</td>\n",
       "      <td>1320.450012</td>\n",
       "      <td>1324.699951</td>\n",
       "      <td>1324.699951</td>\n",
       "      <td>352.000000</td>\n",
       "    </tr>\n",
       "    <tr>\n",
       "      <th>max</th>\n",
       "      <td>2045.500000</td>\n",
       "      <td>2063.000000</td>\n",
       "      <td>2040.000000</td>\n",
       "      <td>2051.500000</td>\n",
       "      <td>2051.500000</td>\n",
       "      <td>386334.000000</td>\n",
       "    </tr>\n",
       "  </tbody>\n",
       "</table>\n",
       "</div>"
      ],
      "text/plain": [
       "              Open         High          Low        Close    Adj Close  \\\n",
       "count  5119.000000  5119.000000  5119.000000  5119.000000  5119.000000   \n",
       "mean   1005.549971  1010.648779  1000.035202  1005.395663  1005.395663   \n",
       "std     483.697976   486.674546   480.318095   483.531524   483.531524   \n",
       "min     255.000000   256.100006   255.000000   255.100006   255.100006   \n",
       "25%     468.299988   469.099991   467.800003   468.250000   468.250000   \n",
       "50%    1162.500000  1168.599976  1154.900024  1162.800049  1162.800049   \n",
       "75%    1326.500000  1331.549988  1320.450012  1324.699951  1324.699951   \n",
       "max    2045.500000  2063.000000  2040.000000  2051.500000  2051.500000   \n",
       "\n",
       "              Volume  \n",
       "count    5119.000000  \n",
       "mean     4251.674741  \n",
       "std     24553.064309  \n",
       "min         0.000000  \n",
       "25%        17.000000  \n",
       "50%        93.000000  \n",
       "75%       352.000000  \n",
       "max    386334.000000  "
      ]
     },
     "execution_count": 36,
     "metadata": {},
     "output_type": "execute_result"
    }
   ],
   "source": [
    "df.describe()\n",
    "# standard deviation: where the derivative changes"
   ]
  },
  {
   "cell_type": "markdown",
   "metadata": {},
   "source": [
    "Dataseries or columns can be selected using the column header string and dictionary syntax:"
   ]
  },
  {
   "cell_type": "code",
   "execution_count": 24,
   "metadata": {},
   "outputs": [
    {
     "name": "stdout",
     "output_type": "stream",
     "text": [
      "             Open          Low         High\n",
      "0      273.899994   273.899994   273.899994\n",
      "1      274.799988   274.799988   278.299988\n",
      "2      277.000000   277.000000   277.000000\n",
      "3             NaN          NaN          NaN\n",
      "4      275.799988   275.799988   275.799988\n",
      "...           ...          ...          ...\n",
      "5226  1686.199951  1685.199951  1717.500000\n",
      "5227  1713.599976  1711.000000  1722.900024\n",
      "5228  1725.599976  1720.199951  1737.500000\n",
      "5229  1715.900024  1699.000000  1722.500000\n",
      "5230  1729.500000  1722.800049  1731.900024\n",
      "\n",
      "[5231 rows x 3 columns]\n"
     ]
    }
   ],
   "source": [
    "subDf = df[[\"Open\",\"Low\",\"High\"]] #extracting desirable columns\n",
    "\n",
    "print(subDf)"
   ]
  },
  {
   "cell_type": "markdown",
   "metadata": {},
   "source": [
    "To investigate just a subset of rows, use the ``iloc`` method to slice your dataframe:"
   ]
  },
  {
   "cell_type": "code",
   "execution_count": 25,
   "metadata": {},
   "outputs": [
    {
     "name": "stdout",
     "output_type": "stream",
     "text": [
      "           Open         Low        High\n",
      "0    273.899994  273.899994  273.899994\n",
      "1    274.799988  274.799988  278.299988\n",
      "2    277.000000  277.000000  277.000000\n",
      "3           NaN         NaN         NaN\n",
      "4    275.799988  275.799988  275.799988\n",
      "..          ...         ...         ...\n",
      "995  395.500000  394.500000  397.200012\n",
      "996  394.600006  394.600006  403.700012\n",
      "997  402.299988  401.299988  403.600006\n",
      "998  403.000000  401.299988  405.000000\n",
      "999  400.200012  398.000000  400.200012\n",
      "\n",
      "[1000 rows x 3 columns]\n"
     ]
    }
   ],
   "source": [
    "print(subDf.iloc[:1000])"
   ]
  },
  {
   "cell_type": "markdown",
   "metadata": {},
   "source": [
    "You can also select data based on a criterion such as a numerical threashold or a substring:"
   ]
  },
  {
   "cell_type": "code",
   "execution_count": 26,
   "metadata": {},
   "outputs": [
    {
     "name": "stdout",
     "output_type": "stream",
     "text": [
      "             Open          Low         High\n",
      "1957   993.900024   993.000000  1004.599976\n",
      "1958  1005.000000   996.400024  1014.599976\n",
      "1959  1003.599976   978.200012  1010.000000\n",
      "2193   974.000000   971.599976  1004.900024\n",
      "2331   993.500000   993.200012  1006.900024\n",
      "...           ...          ...          ...\n",
      "5226  1686.199951  1685.199951  1717.500000\n",
      "5227  1713.599976  1711.000000  1722.900024\n",
      "5228  1725.599976  1720.199951  1737.500000\n",
      "5229  1715.900024  1699.000000  1722.500000\n",
      "5230  1729.500000  1722.800049  1731.900024\n",
      "\n",
      "[2873 rows x 3 columns]\n",
      "            Date         Open         High          Low        Close  \\\n",
      "2916  2012-01-03  1568.900024  1604.300049  1566.000000  1599.699951   \n",
      "2917  2012-01-04  1596.599976  1618.599976  1594.500000  1611.900024   \n",
      "2918  2012-01-05  1610.800049  1624.099976  1597.800049  1619.400024   \n",
      "2919  2012-01-06  1622.500000  1627.800049  1616.099976  1616.099976   \n",
      "2920  2012-01-09  1614.300049  1620.099976  1607.500000  1607.500000   \n",
      "...          ...          ...          ...          ...          ...   \n",
      "3161  2012-12-24          NaN          NaN          NaN          NaN   \n",
      "3162  2012-12-26  1654.500000  1666.699951  1654.500000  1659.800049   \n",
      "3163  2012-12-27  1656.199951  1662.599976  1656.199951  1662.599976   \n",
      "3164  2012-12-28  1664.000000  1664.000000  1653.699951  1654.900024   \n",
      "3165  2012-12-31  1655.400024  1677.099976  1655.400024  1674.800049   \n",
      "\n",
      "        Adj Close  Volume  \n",
      "2916  1599.699951   229.0  \n",
      "2917  1611.900024   172.0  \n",
      "2918  1619.400024   362.0  \n",
      "2919  1616.099976    20.0  \n",
      "2920  1607.500000     8.0  \n",
      "...           ...     ...  \n",
      "3161          NaN     NaN  \n",
      "3162  1659.800049    73.0  \n",
      "3163  1662.599976   446.0  \n",
      "3164  1654.900024   197.0  \n",
      "3165  1674.800049    89.0  \n",
      "\n",
      "[250 rows x 7 columns]\n"
     ]
    }
   ],
   "source": [
    "print(subDf[ subDf[\"High\"] > 1000 ])\n",
    "\n",
    "print(df[ df[\"Date\"].str.contains(\"2012\")  ] )"
   ]
  },
  {
   "cell_type": "markdown",
   "metadata": {},
   "source": [
    "Similar to the ``keys()`` method provided by dictionaries, a short onliner is sufficient to create a list of all column names which comes handy when we need to iterate through a dataframe:"
   ]
  },
  {
   "cell_type": "code",
   "execution_count": 27,
   "metadata": {},
   "outputs": [
    {
     "name": "stdout",
     "output_type": "stream",
     "text": [
      "['Date', 'Open', 'High', 'Low', 'Close', 'Adj Close', 'Volume']\n"
     ]
    }
   ],
   "source": [
    "print(df.columns.tolist())"
   ]
  },
  {
   "cell_type": "markdown",
   "metadata": {},
   "source": [
    "You can also do element-wise calculations with entire columns similar to ``numpy`` arrays. Here, we will calculate the daily fluctuation of the gold price relative to the open price to quantify the daily volatility:"
   ]
  },
  {
   "cell_type": "code",
   "execution_count": 28,
   "metadata": {},
   "outputs": [
    {
     "name": "stdout",
     "output_type": "stream",
     "text": [
      "0       0.000000\n",
      "1       0.012737\n",
      "2       0.000000\n",
      "3            NaN\n",
      "4       0.000000\n",
      "          ...   \n",
      "5226    0.019156\n",
      "5227    0.006944\n",
      "5228    0.010026\n",
      "5229    0.013695\n",
      "5230    0.005262\n",
      "Length: 5231, dtype: float64\n"
     ]
    }
   ],
   "source": [
    "vola = (subDf[\"High\"]-subDf[\"Low\"])/subDf[\"Open\"]\n",
    "print(vola)"
   ]
  },
  {
   "cell_type": "markdown",
   "metadata": {},
   "source": [
    "The result will be a dataseries which we can inspect further:"
   ]
  },
  {
   "cell_type": "code",
   "execution_count": 29,
   "metadata": {},
   "outputs": [
    {
     "name": "stdout",
     "output_type": "stream",
     "text": [
      "Median Fluctuation: 0.007791003773478495\n",
      "Max Fluctuation: 0.10106888712784162\n"
     ]
    }
   ],
   "source": [
    "print(\"Median Fluctuation:\", vola.median())\n",
    "print(\"Max Fluctuation:\", vola.max())"
   ]
  },
  {
   "cell_type": "markdown",
   "metadata": {},
   "source": [
    "Dataseries can be added to existing dataframes just like new dictionary entries:"
   ]
  },
  {
   "cell_type": "code",
   "execution_count": 30,
   "metadata": {},
   "outputs": [
    {
     "name": "stdout",
     "output_type": "stream",
     "text": [
      "      Volatility\n",
      "0       0.000000\n",
      "1       0.012737\n",
      "2       0.000000\n",
      "3            NaN\n",
      "4       0.000000\n",
      "...          ...\n",
      "5226    0.019156\n",
      "5227    0.006944\n",
      "5228    0.010026\n",
      "5229    0.013695\n",
      "5230    0.005262\n",
      "\n",
      "[5231 rows x 1 columns]\n"
     ]
    }
   ],
   "source": [
    "results = pd.DataFrame() # Create an empty Dataframe\n",
    "results[\"Volatility\"] = vola\n",
    "print(results)"
   ]
  },
  {
   "cell_type": "markdown",
   "metadata": {},
   "source": [
    "All basic statistical quantities such as ``mean``, ``median`` or ``std`` can be calculated for entire frames selected series or subsets of series based on some sort of filter. ``Matplotlib`` natively supports ``Pandas`` dataseries:"
   ]
  },
  {
   "cell_type": "code",
   "execution_count": 31,
   "metadata": {},
   "outputs": [
    {
     "data": {
      "image/png": "[encoded data removed]",
      "text/plain": [
       "<Figure size 1500x1000 with 1 Axes>"
      ]
     },
     "metadata": {},
     "output_type": "display_data"
    }
   ],
   "source": [
    "import matplotlib.pyplot as plt\n",
    "%matplotlib inline \n",
    "\n",
    "plt.figure(figsize=(15,10))\n",
    "plt.hist(vola, 100)\n",
    "plt.axvline(vola.mean(), lw = 4, ls = \"--\", color = \"red\") # Arithmetic mean\n",
    "plt.axvline(vola.median(), lw = 4, ls = \"--\", color = \"orange\") # Median\n",
    "plt.axvline(list(vola.mode()), lw = 4, ls = \"--\", color = \"yellow\") # Mode of the distribution (returns a dataseries)\n",
    "plt.show()"
   ]
  },
  {
   "cell_type": "markdown",
   "metadata": {},
   "source": [
    "By the way: If you need to compare multiple distributions of some quantities, e.g. the volatility of various cryptocurrencies, boxplots are a good start. They include key information such as the median (orange line), the range between the upper and lower quartiles that contain 50% of all values as box surrounding the orange line, 1.5 times the quartiles as *whiskers* to visualize the spread of most of the values plus outliers as individual dots:"
   ]
  },
  {
   "cell_type": "code",
   "execution_count": 32,
   "metadata": {},
   "outputs": [
    {
     "data": {
      "image/png": "[encoded data removed]",
      "text/plain": [
       "<Figure size 1500x1000 with 1 Axes>"
      ]
     },
     "metadata": {},
     "output_type": "display_data"
    }
   ],
   "source": [
    "plt.figure(figsize=(15,10))\n",
    "plt.boxplot(results[\"Volatility\"].dropna(), labels=[\"Gold\"])\n",
    "plt.show()"
   ]
  }
 ],
 "metadata": {
  "kernelspec": {
   "display_name": "Python 3",
   "language": "python",
   "name": "python3"
  },
  "language_info": {
   "codemirror_mode": {
    "name": "ipython",
    "version": 3
   },
   "file_extension": ".py",
   "mimetype": "text/x-python",
   "name": "python",
   "nbconvert_exporter": "python",
   "pygments_lexer": "ipython3",
   "version": "3.11.4"
  }
 },
 "nbformat": 4,
 "nbformat_minor": 4
}
