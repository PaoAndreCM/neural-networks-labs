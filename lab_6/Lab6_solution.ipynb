{
 "cells": [
  {
   "cell_type": "markdown",
   "metadata": {},
   "source": [
    "# Lab 6"
   ]
  },
  {
   "cell_type": "markdown",
   "metadata": {},
   "source": [
    "## Problem 1"
   ]
  },
  {
   "cell_type": "markdown",
   "metadata": {},
   "source": [
    "**b) Create a 1D Numpy array labels and read in all labels from `labels.txt`**"
   ]
  },
  {
   "cell_type": "code",
   "execution_count": null,
   "metadata": {},
   "outputs": [],
   "source": [
    "import numpy as np\n",
    "\n",
    "label_list = []\n",
    "\n",
    "with open('data/labels.txt', 'r') as file:\n",
    "    for line in file:\n",
    "        label = int(line.strip())\n",
    "        label_list.append(label)\n",
    "\n",
    "labels = np.array(label_list) # This is more efficient than initiating an empty numpy array and then appending to it:\n",
    "                              # It avoids the resizing and copying that occurs with np.append"
   ]
  },
  {
   "cell_type": "markdown",
   "metadata": {},
   "source": [
    "**c) Create a 3D Numpy array test. The first dimension shall represent the image index (0 to 9999) while the second and third dimension represent the image pixels.**"
   ]
  },
  {
   "cell_type": "code",
   "execution_count": null,
   "metadata": {},
   "outputs": [],
   "source": [
    "image_size = 28\n",
    "num_images = 10000\n",
    "\n",
    "test = np.empty((num_images, image_size, image_size))\n",
    "# print(\"Shape of the array:\", test.shape)"
   ]
  },
  {
   "cell_type": "markdown",
   "metadata": {},
   "source": [
    "**d) Generate a list of all images `imgNames`` using list comprehension.**"
   ]
  },
  {
   "cell_type": "code",
   "execution_count": null,
   "metadata": {},
   "outputs": [],
   "source": [
    "img_names = [\"data/test_\"+str(i).zfill(len(str(num_images)))+\".gif\" for i in range(num_images)]"
   ]
  },
  {
   "cell_type": "markdown",
   "metadata": {},
   "source": [
    "**e) Iterate through all image files. In every iteration, load the associated image file, convert it to a Numpy\n",
    "array, divide it by 255 to normalize it to 1 and store it in test.**"
   ]
  },
  {
   "cell_type": "code",
   "execution_count": null,
   "metadata": {},
   "outputs": [],
   "source": [
    "from PIL import Image\n",
    "# iterate through all image files\n",
    "    # load the associated image file, convert it to a Numpy array\n",
    "    # divide it by 225 to normalize it to 1\n",
    "    # store it in test\n",
    "\n",
    "i = 0\n",
    "for i, img_name in enumerate(img_names):\n",
    "    image = Image.open(img_name)\n",
    "    image_np = np.array(image) / 255\n",
    "    test[i] = image_np\n",
    "    # print(\"shape \", image_np.shape)"
   ]
  },
  {
   "cell_type": "code",
   "execution_count": null,
   "metadata": {},
   "outputs": [],
   "source": [
    "# print(test[150])"
   ]
  },
  {
   "cell_type": "markdown",
   "metadata": {},
   "source": [
    "## Problem 2"
   ]
  },
  {
   "cell_type": "markdown",
   "metadata": {},
   "source": [
    "**a) Draw a digit**"
   ]
  },
  {
   "cell_type": "markdown",
   "metadata": {},
   "source": [
    "![digit_four](four.gif)"
   ]
  },
  {
   "cell_type": "markdown",
   "metadata": {},
   "source": [
    "**b) Load image of digit onto notebook and rescale**"
   ]
  },
  {
   "cell_type": "code",
   "execution_count": null,
   "metadata": {},
   "outputs": [],
   "source": [
    "filename = 'four.gif'\n",
    "img = Image.open(filename).convert('L') # Load image\n",
    "imgRe = img.resize(size=(image_size ,image_size)) # resize it to 28 x 28\n",
    "imageRe_np = np.array(imgRe)  / 255 \n",
    "# print(imageRe_np)\n",
    "# print(imageRe_np/255)"
   ]
  },
  {
   "cell_type": "markdown",
   "metadata": {},
   "source": [
    "**c) Generate a single plot of five MNIST images of your digit**"
   ]
  },
  {
   "cell_type": "code",
   "execution_count": 216,
   "metadata": {},
   "outputs": [],
   "source": [
    "# I have the images in my `test` np.array\n",
    "# I have the labels for each image in my `labels` np.array\n",
    "\n",
    "# Find 5 instances of my digit in `labels`\n",
    "# Store their index \n",
    "# Find the corresponding images in my array `test`\n",
    "\n",
    "desired_digit = 4\n",
    "indices = np.where(labels == desired_digit)[0][:5]\n",
    "digit_imgs = test[indices]\n",
    "digit_imgs = np.concatenate([digit_imgs, [imageRe_np]], axis=0)\n"
   ]
  },
  {
   "cell_type": "code",
   "execution_count": 219,
   "metadata": {},
   "outputs": [
    {
     "data": {
      "image/png": "[encoded data removed]",
      "text/plain": [
       "<Figure size 1200x800 with 6 Axes>"
      ]
     },
     "metadata": {},
     "output_type": "display_data"
    }
   ],
   "source": [
    "import matplotlib.pyplot as plt\n",
    "# Generate plot with images of my digit\n",
    "# Create a figure and 2x3 grid of subplots\n",
    "fig, axs = plt.subplots(2, 3, figsize=(12, 8))\n",
    "\n",
    "# Flatten the axs array for easier iteration\n",
    "axs_flat = axs.flatten()\n",
    "\n",
    "# Loop through data and subplots to plot\n",
    "for i, (dat, ax) in enumerate(zip(digit_imgs, axs_flat), start=1):\n",
    "    ax.imshow(dat, cmap='gray_r', interpolation='None')  \n",
    "\n",
    "plt.show()"
   ]
  },
  {
   "cell_type": "code",
   "execution_count": null,
   "metadata": {},
   "outputs": [],
   "source": [
    "# Create a figure and 2x3 grid of subplots\n",
    "fig, axs = plt.subplots(2, 3, figsize=(12, 8))\n",
    "\n",
    "# Plot something in each subplot\n",
    "axs[0, 0].plot([1, 2, 3], [4, 5, 6])\n",
    "axs[0, 0].set_title('Subplot 1')\n",
    "\n",
    "axs[0, 1].scatter([1, 2, 3], [4, 5, 6], color='red')\n",
    "axs[0, 1].set_title('Subplot 2')\n",
    "\n",
    "axs[0, 2].hist([1, 1, 2, 2, 2, 3], bins=3, color='green', alpha=0.7)\n",
    "axs[0, 2].set_title('Subplot 3')\n",
    "\n",
    "axs[1, 0].bar(['A', 'B', 'C'], [3, 7, 2], color='blue')\n",
    "axs[1, 0].set_title('Subplot 4')\n",
    "\n",
    "axs[1, 1].imshow([[1, 2], [3, 4]], cmap='viridis')\n",
    "axs[1, 1].set_title('Subplot 5')\n",
    "\n",
    "axs[1, 2].pie([0.2, 0.3, 0.5], labels=['A', 'B', 'C'], autopct='%1.1f%%', colors=['orange', 'purple', 'pink'])\n",
    "axs[1, 2].set_title('Subplot 6')\n",
    "\n",
    "# Adjust layout to prevent clipping of titles\n",
    "plt.tight_layout()\n",
    "\n",
    "# Show the plot\n",
    "plt.show()"
   ]
  }
 ],
 "metadata": {
  "kernelspec": {
   "display_name": "ds",
   "language": "python",
   "name": "python3"
  },
  "language_info": {
   "codemirror_mode": {
    "name": "ipython",
    "version": 3
   },
   "file_extension": ".py",
   "mimetype": "text/x-python",
   "name": "python",
   "nbconvert_exporter": "python",
   "pygments_lexer": "ipython3",
   "version": "3.12.0"
  }
 },
 "nbformat": 4,
 "nbformat_minor": 2
}
