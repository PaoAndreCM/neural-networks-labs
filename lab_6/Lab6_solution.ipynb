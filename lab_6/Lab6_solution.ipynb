{
 "cells": [
  {
   "cell_type": "markdown",
   "metadata": {},
   "source": [
    "# Lab 6"
   ]
  },
  {
   "cell_type": "markdown",
   "metadata": {},
   "source": [
    "## Problem 1"
   ]
  },
  {
   "cell_type": "markdown",
   "metadata": {},
   "source": [
    "**b) Create a 1D Numpy array labels and read in all labels from `labels.txt`**"
   ]
  },
  {
   "cell_type": "code",
   "execution_count": 65,
   "metadata": {},
   "outputs": [],
   "source": [
    "import numpy as np\n",
    "\n",
    "label_list = []\n",
    "\n",
    "with open('data/labels.txt', 'r') as file:\n",
    "    for line in file:\n",
    "        label = int(line.strip())\n",
    "        label_list.append(label)\n",
    "\n",
    "labels = np.array(label_list) # This is more efficient than initiating an empty numpy array and then appending to it:\n",
    "                              # It avoids the resizing and copying that occurs with np.append"
   ]
  },
  {
   "cell_type": "markdown",
   "metadata": {},
   "source": [
    "**c) Create a 3D Numpy array test. The first dimension shall represent the image index (0 to 9999) while the second and third dimension represent the image pixels.**"
   ]
  },
  {
   "cell_type": "code",
   "execution_count": 66,
   "metadata": {},
   "outputs": [],
   "source": [
    "image_size = 28\n",
    "num_images = 10000\n",
    "\n",
    "test = np.empty((num_images, image_size, image_size))\n",
    "# print(\"Shape of the array:\", test.shape)"
   ]
  },
  {
   "cell_type": "markdown",
   "metadata": {},
   "source": [
    "**d) Generate a list of all images `imgNames`` using list comprehension.**"
   ]
  },
  {
   "cell_type": "code",
   "execution_count": 67,
   "metadata": {},
   "outputs": [],
   "source": [
    "img_names = [\"data/test_\"+str(i).zfill(len(str(num_images)))+\".gif\" for i in range(num_images)]"
   ]
  },
  {
   "cell_type": "markdown",
   "metadata": {},
   "source": [
    "**e) Iterate through all image files. In every iteration, load the associated image file, convert it to a Numpy\n",
    "array, divide it by 255 to normalize it to 1 and store it in test.**"
   ]
  },
  {
   "cell_type": "code",
   "execution_count": 68,
   "metadata": {},
   "outputs": [],
   "source": [
    "from PIL import Image\n",
    "# iterate through all image files\n",
    "    # load the associated image file, convert it to a Numpy array\n",
    "    # divide it by 225 to normalize it to 1\n",
    "    # store it in test\n",
    "\n",
    "i = 0\n",
    "for i, img_name in enumerate(img_names):\n",
    "    image = Image.open(img_name)\n",
    "    image_np = np.array(image) / 255\n",
    "    test[i] = image_np\n",
    "    # print(\"shape \", image_np.shape)"
   ]
  },
  {
   "cell_type": "code",
   "execution_count": 69,
   "metadata": {},
   "outputs": [],
   "source": [
    "# print(test[150])"
   ]
  },
  {
   "cell_type": "markdown",
   "metadata": {},
   "source": [
    "## Problem 2"
   ]
  },
  {
   "cell_type": "markdown",
   "metadata": {},
   "source": [
    "**a) Draw a digit**"
   ]
  },
  {
   "cell_type": "markdown",
   "metadata": {},
   "source": [
    "![digit_four](four.gif)"
   ]
  },
  {
   "cell_type": "markdown",
   "metadata": {},
   "source": [
    "**b) Load image of digit onto notebook and rescale**"
   ]
  },
  {
   "cell_type": "code",
   "execution_count": 70,
   "metadata": {},
   "outputs": [],
   "source": [
    "filename = 'four.gif'\n",
    "my_digit_img = Image.open(filename).convert('L') # Load image\n",
    "my_digit_resized = my_digit_img.resize(size=(image_size ,image_size)) # resize it to 28 x 28\n",
    "my_digit_np = np.array(my_digit_resized)  / 255 "
   ]
  },
  {
   "cell_type": "markdown",
   "metadata": {},
   "source": [
    "**c) Generate a single plot of five MNIST images of your digit**"
   ]
  },
  {
   "cell_type": "code",
   "execution_count": 71,
   "metadata": {},
   "outputs": [],
   "source": [
    "# I have the images in my `test` np.array\n",
    "# I have the labels for each image in my `labels` np.array\n",
    "\n",
    "# Find 5 instances of my digit in `labels`\n",
    "# Store their index \n",
    "# Find the corresponding images in my array `test`\n",
    "\n",
    "desired_digit = 4\n",
    "indices = np.where(labels == desired_digit)[0][:5]\n",
    "digit_imgs = test[indices]\n",
    "digit_imgs = np.concatenate([digit_imgs, [my_digit_np]], axis=0)\n"
   ]
  },
  {
   "cell_type": "code",
   "execution_count": 72,
   "metadata": {},
   "outputs": [
    {
     "data": {
      "image/png": "[encoded data removed]",
      "text/plain": [
       "<Figure size 1200x800 with 6 Axes>"
      ]
     },
     "metadata": {},
     "output_type": "display_data"
    }
   ],
   "source": [
    "import matplotlib.pyplot as plt\n",
    "# Generate plot with images of my digit\n",
    "# Create a figure and 2x3 grid of subplots\n",
    "fig, axs = plt.subplots(2, 3, figsize=(12, 8))\n",
    "\n",
    "# Flatten the axs array for easier iteration\n",
    "axs_flat = axs.flatten()\n",
    "\n",
    "# Loop through data and subplots to plot\n",
    "for i, (dat, ax) in enumerate(zip(digit_imgs, axs_flat), start=1):\n",
    "    ax.imshow(dat, cmap='gray_r', interpolation='None')  \n",
    "\n",
    "plt.show()"
   ]
  },
  {
   "cell_type": "markdown",
   "metadata": {},
   "source": [
    "# Problem 3"
   ]
  },
  {
   "cell_type": "markdown",
   "metadata": {},
   "source": [
    "**a) Copy all the code that is required to create an instance of the class `neuralNetwork` which will be extended method by method throughout the next weeks before we switch to `Tensorflow`.**"
   ]
  },
  {
   "cell_type": "code",
   "execution_count": 73,
   "metadata": {},
   "outputs": [
    {
     "name": "stdout",
     "output_type": "stream",
     "text": [
      "Input nodes: 784, Hidden nodes: 100, Output nodes: 10, Learning rate: 0.3, wih matrix shape: (100, 784), who matrix shape: (10, 100)\n"
     ]
    }
   ],
   "source": [
    "from neural_network import neuralNetwork as nn\n",
    "\n",
    "iNodes = 784 # The images are 28x28 pixels\n",
    "hNodes = 100 # An educated guess\n",
    "oNodes = 10 # Ten digits\n",
    "\n",
    "lRate = 0.3 # More on that next week\n",
    "\n",
    "testNet = nn(iNodes, hNodes, oNodes, lRate) # Create an instance of the network\n",
    "\n",
    "print(testNet)"
   ]
  },
  {
   "cell_type": "markdown",
   "metadata": {},
   "source": [
    "**b) Write a function `softmax(arr)` that applies the softmax operation to a Numpy array**"
   ]
  },
  {
   "cell_type": "markdown",
   "metadata": {},
   "source": [
    "$\\textrm{softmax(}x\\textrm{)} = \\frac{\\textrm{exp(}x_{i}\\textrm{)}}{\\sum \\textrm{exp(}x_{i}\\textrm{)}}$"
   ]
  },
  {
   "cell_type": "code",
   "execution_count": 74,
   "metadata": {},
   "outputs": [],
   "source": [
    "def softmax(arr):\n",
    "    numerator = np.exp(arr)\n",
    "    denominator = np.sum(np.exp(arr))\n",
    "    return (numerator / denominator)"
   ]
  },
  {
   "cell_type": "markdown",
   "metadata": {},
   "source": [
    "**c) Use the network’s query method to feed your handwritten digit into the network. Divide the image array by 255 before you pass it to the query method. Apply the softmax function to the output vector and verify that the sum of its entries equals 1.**"
   ]
  },
  {
   "cell_type": "code",
   "execution_count": 81,
   "metadata": {},
   "outputs": [
    {
     "name": "stdout",
     "output_type": "stream",
     "text": [
      "[0.13357031 0.10388126 0.0834535  0.10168068 0.06882786 0.11644264\n",
      " 0.07380554 0.0750556  0.12835539 0.11492721]\n",
      "0.9999999999999999\n"
     ]
    }
   ],
   "source": [
    "prediction = testNet.query(my_digit_np)\n",
    "norm_prediction = softmax(prediction)\n",
    "\n",
    "print(norm_prediction)\n",
    "print(np.sum(norm_prediction))"
   ]
  }
 ],
 "metadata": {
  "kernelspec": {
   "display_name": "ds",
   "language": "python",
   "name": "python3"
  },
  "language_info": {
   "codemirror_mode": {
    "name": "ipython",
    "version": 3
   },
   "file_extension": ".py",
   "mimetype": "text/x-python",
   "name": "python",
   "nbconvert_exporter": "python",
   "pygments_lexer": "ipython3",
   "version": "3.12.0"
  }
 },
 "nbformat": 4,
 "nbformat_minor": 2
}
