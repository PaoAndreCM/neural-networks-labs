{
 "cells": [
  {
   "cell_type": "markdown",
   "metadata": {},
   "source": [
    " # Lab 7\n"
   ]
  },
  {
   "cell_type": "markdown",
   "metadata": {},
   "source": [
    "## Problem 1"
   ]
  },
  {
   "cell_type": "markdown",
   "metadata": {},
   "source": [
    "Neural networks are trained and tested with different datasets to make sure that the networks can actually deal with new data and not just data it has already seen. If the label of a tested image corresponds to the largest entry of the output vector, the image has been correctly classified by the network. The fraction of\n",
    "correctly classified test images is a measure for the network’s performance.\n",
    "\n",
    "\n",
    "a) Download the MNIST npy files provided in the shared folder. They contain the MNIST test and the training datasets alongside their labels. Load them into a notebook."
   ]
  },
  {
   "cell_type": "code",
   "execution_count": 12,
   "metadata": {},
   "outputs": [],
   "source": [
    "import numpy as np\n",
    "\n",
    "path = '/mnt/share/nnds/mnist/'\n",
    "\n",
    "trainData = np.load(path+'mnistDataTrain.npy')\n",
    "trainLabels = np.load(path+'mnistLabelsTrain.npy')\n",
    "\n",
    "testData = np.load(path+'mnistDataTest.npy')\n",
    "testLabels = np.load(path+'mnistLabelsTest.npy')\n"
   ]
  },
  {
   "cell_type": "code",
   "execution_count": 13,
   "metadata": {},
   "outputs": [
    {
     "name": "stdout",
     "output_type": "stream",
     "text": [
      "(10000, 28, 28)\n",
      "<class 'numpy.int32'>\n"
     ]
    },
    {
     "data": {
      "image/png": "[encoded data removed]",
      "text/plain": [
       "<Figure size 640x480 with 1 Axes>"
      ]
     },
     "metadata": {},
     "output_type": "display_data"
    }
   ],
   "source": [
    "import matplotlib.pyplot as plt\n",
    "\n",
    "print(np.shape(testData))\n",
    "# print(testData[0])\n",
    "plt.hist(testData[0].flatten(),16)\n",
    "print(type(trainLabels[0]))"
   ]
  },
  {
   "cell_type": "markdown",
   "metadata": {},
   "source": [
    "b) Create a network with 784 input nodes, 100 hidden nodes, 10 output nodes and a learning rate of 0.6. Train the network with all 60000 images of the dataTrain dataset."
   ]
  },
  {
   "cell_type": "code",
   "execution_count": 14,
   "metadata": {},
   "outputs": [
    {
     "name": "stdout",
     "output_type": "stream",
     "text": [
      "59999\n"
     ]
    }
   ],
   "source": [
    "from network import neuralNetwork\n",
    "\n",
    "iNodes = 784\n",
    "hNodes = 100\n",
    "oNodes = 10\n",
    "lRate = 0.6\n",
    "\n",
    "my_network = neuralNetwork(iNodes, hNodes, oNodes, lRate)\n",
    "\n",
    "# train step:\n",
    "i = 0\n",
    "for i, label in enumerate(trainLabels):\n",
    "    # create target vector\n",
    "    lbl = trainLabels[i] # Get the label of the first image\n",
    "    target = np.zeros(10, dtype='float') + 0.01 # Set the target vector\n",
    "    target[lbl] = 0.99\n",
    "\n",
    "    # feed image with target vector into method `train`\n",
    "    my_network.train(trainData[i], target)\n",
    "\n",
    "print(i)"
   ]
  },
  {
   "cell_type": "markdown",
   "metadata": {},
   "source": [
    "c) Write a function or a method `evaluate` that determines the fraction of `dataTest` images that the network classifies correctly. What is the performance of your network? Hint: `np.argmax(arr)` returns the index of the largest element of `arr` ...\n"
   ]
  },
  {
   "cell_type": "code",
   "execution_count": 15,
   "metadata": {},
   "outputs": [],
   "source": [
    "def evaluate(network, test_data, test_labels):\n",
    "    num_correct_predictions = 0\n",
    "\n",
    "    for i, test_label in enumerate(test_labels):\n",
    "        prediction = network.query(test_data[i]) # query the network\n",
    "        \n",
    "        # Compare index of the largest element in `prediction`` with label\n",
    "        if test_label == np.argmax(prediction):\n",
    "            num_correct_predictions += 1\n",
    "\n",
    "    performance = num_correct_predictions / len(test_labels)\n",
    "    return performance"
   ]
  },
  {
   "cell_type": "code",
   "execution_count": null,
   "metadata": {},
   "outputs": [],
   "source": [
    "performance = evaluate(my_network, testData, testLabels)\n",
    "print('Performance: ' + performance)"
   ]
  },
  {
   "cell_type": "markdown",
   "metadata": {},
   "source": [
    "d) Use plt.imshow (see session 6) to plot the weight matrices of the trained network. What has changed compared to the untrained state?"
   ]
  },
  {
   "cell_type": "markdown",
   "metadata": {},
   "source": [
    "## Problem 2"
   ]
  },
  {
   "cell_type": "markdown",
   "metadata": {},
   "source": [
    "Training large neural network can be a very long process. Therefore, we need a method to permanently save\n",
    "and restore a network’s memory."
   ]
  },
  {
   "cell_type": "markdown",
   "metadata": {},
   "source": [
    "a) Write a method saveWeights that saves the matrices wih and who to the disk. Use\n",
    "```\n",
    "np.save(filename , array)\n",
    "```\n",
    "and the file name extension `*.npy` (e.g. filename = \"wih.npy\") to create binary files.\n"
   ]
  },
  {
   "cell_type": "markdown",
   "metadata": {},
   "source": [
    "b) Add a method `restoreWeights` that restores the network’s memory. Use\n",
    "\n",
    "```array = np.load(filename)```\n",
    "\n",
    "to read binary files.\n"
   ]
  },
  {
   "cell_type": "markdown",
   "metadata": {},
   "source": [
    "c) Create an instance of the network `testNet`. Train it, save the network’s weights, set them to 0 and restore them again. Verify that your network is able to classify handwritten numbers again."
   ]
  },
  {
   "cell_type": "markdown",
   "metadata": {},
   "source": [
    "## Problem 3"
   ]
  },
  {
   "cell_type": "markdown",
   "metadata": {},
   "source": [
    "This task is intended for those of you who would like to go an extra mile ... With every training image fed through the network, the weight matrices slightly change."
   ]
  },
  {
   "cell_type": "markdown",
   "metadata": {},
   "source": [
    "a) Write a `plotWeights(self, filename)`` method takes a filename and quietly saves the image to a file."
   ]
  },
  {
   "cell_type": "markdown",
   "metadata": {},
   "source": [
    "b) Create a network with 784 input nodes, 100 hidden nodes, 10 output nodes and a learning rate of 0.3. Train the network with all 60000 images of the train dataset by iterating through the array and calling the train method for every image. After every 600th iteration, call your `plotWeights` method.\n",
    "Chose a reasonable name for your image files."
   ]
  },
  {
   "cell_type": "markdown",
   "metadata": {},
   "source": [
    "c) Create a gif animation from your image files."
   ]
  },
  {
   "cell_type": "markdown",
   "metadata": {},
   "source": []
  }
 ],
 "metadata": {
  "kernelspec": {
   "display_name": "ds",
   "language": "python",
   "name": "python3"
  },
  "language_info": {
   "codemirror_mode": {
    "name": "ipython",
    "version": 3
   },
   "file_extension": ".py",
   "mimetype": "text/x-python",
   "name": "python",
   "nbconvert_exporter": "python",
   "pygments_lexer": "ipython3",
   "version": "3.12.0"
  }
 },
 "nbformat": 4,
 "nbformat_minor": 2
}
