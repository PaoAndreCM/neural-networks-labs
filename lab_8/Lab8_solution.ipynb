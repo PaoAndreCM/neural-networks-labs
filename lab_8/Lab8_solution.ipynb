{
 "cells": [
  {
   "cell_type": "markdown",
   "metadata": {},
   "source": [
    "# Lab 8"
   ]
  },
  {
   "cell_type": "markdown",
   "metadata": {},
   "source": [
    "Feeding in the entire training dataset into the network is called an training epoch. As every image only\n",
    "slightly changes the neural network weights, networks are typically trained for more than one epoch.\n",
    "\n",
    "a) Create a 'network' module and design a network testNet with 784 input nodes, 100 hidden nodes, 10 output\n",
    "nodes and a learning rate of 0.6."
   ]
  },
  {
   "cell_type": "code",
   "execution_count": 3,
   "metadata": {},
   "outputs": [
    {
     "data": {
      "text/plain": [
       "<network.neuralNetwork at 0x7f50582899a0>"
      ]
     },
     "execution_count": 3,
     "metadata": {},
     "output_type": "execute_result"
    }
   ],
   "source": [
    "from network import neuralNetwork as nn\n",
    "\n",
    "iNodes = 748\n",
    "hNodes = 100\n",
    "oNodes = 10\n",
    "lRate = 0.6\n",
    "\n",
    "nn(iNodes, hNodes, oNodes, lRate)"
   ]
  },
  {
   "cell_type": "markdown",
   "metadata": {},
   "source": [
    "b) Download the mnist.zip file, extract its contents and use np.load to load the *.npy files of the\n",
    "training and test images and labels.\n"
   ]
  },
  {
   "cell_type": "code",
   "execution_count": 4,
   "metadata": {},
   "outputs": [
    {
     "name": "stdout",
     "output_type": "stream",
     "text": [
      "<class 'list'>\n"
     ]
    }
   ],
   "source": [
    "import numpy as np\n",
    "from os import listdir\n",
    "\n",
    "basePath = \"/mnt/share/nnds/mnist/\"\n",
    "file_list = listdir(basePath)\n",
    "\n",
    "for file in file_list:\n",
    "    \n",
    "\n",
    "# print(type(file_list))\n",
    "\n",
    "\n",
    "# mnistDataTest = np.load(basePath + \"mnistDataTest.npy\")\n",
    "# mnistDataTestLabels = np.load(basePath + \"basePath\")"
   ]
  },
  {
   "cell_type": "markdown",
   "metadata": {},
   "source": [
    "c) Write a method batchTrain(self, dataTrain, labelsTrain) that takes a training data array and\n",
    "a labels array as arguments and trains the network with every image of the training data array.\n"
   ]
  },
  {
   "cell_type": "markdown",
   "metadata": {},
   "source": [
    "d) Train your network for at least 10 epochs, but feel free to go even further. After every epoch, evaluate\n",
    "the fraction of test images that the networks classifies correctly and store it in a list or array score. Use\n",
    "time.time() from the time library to measure the total execution time of your multi-epoch training\n",
    "and test. Open the Task Manager and inspect the utilization of your system (CPU, RAM).\n"
   ]
  },
  {
   "cell_type": "markdown",
   "metadata": {},
   "source": [
    "e) Generate a plot to illustrate the evolution of the network’s performance as a function of the number\n",
    "of training epochs. Discuss your result.\n"
   ]
  },
  {
   "cell_type": "markdown",
   "metadata": {},
   "source": []
  }
 ],
 "metadata": {
  "kernelspec": {
   "display_name": "ds",
   "language": "python",
   "name": "python3"
  },
  "language_info": {
   "codemirror_mode": {
    "name": "ipython",
    "version": 3
   },
   "file_extension": ".py",
   "mimetype": "text/x-python",
   "name": "python",
   "nbconvert_exporter": "python",
   "pygments_lexer": "ipython3",
   "version": "3.12.0"
  }
 },
 "nbformat": 4,
 "nbformat_minor": 2
}
