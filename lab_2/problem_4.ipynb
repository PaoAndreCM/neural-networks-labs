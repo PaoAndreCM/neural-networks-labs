{
 "cells": [
  {
   "cell_type": "markdown",
   "metadata": {},
   "source": [
    "# Problem 4"
   ]
  },
  {
   "cell_type": "code",
   "execution_count": null,
   "metadata": {},
   "outputs": [],
   "source": [
    "import random\n",
    "import matplotlib.pyplot as plt\n",
    "\n",
    "def logisticSequence(x_0, r, numOfElements):\n",
    "    logisticElements = []\n",
    "    for n in range(0,numOfElements):\n",
    "        if n==0:\n",
    "            x=x_0\n",
    "        else:\n",
    "            x = r*x*(1-x)\n",
    "        logisticElements.append(x)\n",
    "    return logisticElements\n",
    "\n",
    "a = logisticSequence(0.1, 1.5, 20)\n",
    "print(a)\n",
    "\n",
    "sequences = []\n",
    "for n in range(0,5):\n",
    "    list = logisticSequence(random.random(), 2.5, 30)\n",
    "    sequences.append(list)\n",
    "    print(list)\n",
    "\n",
    "x = range(0,len(sequences[0]),1)\n",
    "for sequence in sequences:\n",
    "    plt.plot(x, sequence)\n",
    "\n",
    "plt.show()\n",
    "\n",
    "sequencesButtefly = []\n",
    "for n in range(0,5):\n",
    "    list = logisticSequence(0.6+random.random()*10**-6, 3.85415, 30)\n",
    "    sequencesButtefly.append(list)\n",
    "    print(list)\n",
    "\n",
    "x = range(0,len(sequencesButtefly[0]),1)\n",
    "for sequence in sequencesButtefly:\n",
    "    plt.plot(x, sequence)"
   ]
  }
 ],
 "metadata": {
  "kernelspec": {
   "display_name": "base",
   "language": "python",
   "name": "python3"
  },
  "language_info": {
   "codemirror_mode": {
    "name": "ipython",
    "version": 3
   },
   "file_extension": ".py",
   "mimetype": "text/x-python",
   "name": "python",
   "nbconvert_exporter": "python",
   "pygments_lexer": "ipython3",
   "version": "3.11.4"
  }
 },
 "nbformat": 4,
 "nbformat_minor": 2
}
