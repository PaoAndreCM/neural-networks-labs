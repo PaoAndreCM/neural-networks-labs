{
 "cells": [
  {
   "cell_type": "markdown",
   "metadata": {},
   "source": [
    "# Euler's Formula: A Mathematical Marvel\n",
    "\n",
    "Euler's formula, often regarded as one of the ***most beautiful*** and elegant equations in mathematics, stands as a testament to the deep interconnections between seemingly distinct mathematical concepts. Named after the Swiss mathematician Leonhard Euler, this formula provides a profound link between complex exponentials and trigonometric functions. In its simplest form, it is expressed as:\n",
    "\n",
    "$$e^{j\\theta}=\\mathrm{cos}(\\theta)+j\\mathrm{sin}(\\theta)$$\n",
    "\n",
    "## What does it mean?\n",
    "\n",
    "Here, $e$ represents the base of the natural logarithm, $j$ represents the imaginary unit (often denoted as $i$ in engineering contexts), and $θ$ stands for an angle. This deceptively simple equation encapsulates a profound understanding of the relationships between complex numbers, exponentials, and the unit circle, paving the way for a multitude of applications in various fields of mathematics and science.\n",
    "\n",
    "One of the most striking aspects of Euler's formula is how it unifies seemingly unrelated mathematical concepts. The left side of the equation represents a complex exponential, a mathematical construct rooted in pure mathematics. The right side, however, combines the trigonometric functions cosine and sine, which are fundamental to the description of periodic phenomena in physics and engineering. In essence, Euler's formula reveals that exponential growth and oscillatory behavior are two sides of the same mathematical coin.\n",
    "\n",
    "![e_cartesian_coordinates](eulers_formula.jpeg)"
   ]
  },
  {
   "cell_type": "markdown",
   "metadata": {},
   "source": [
    "### Euler's Formula and Its Connections: From Euler's Identity to Exponential Forms of Trigonometric Functions\n",
    "Euler's formula is a foundational mathematical concept that connects complex exponentials with trigonometric functions, leading to Euler's identity and various exponential forms for complex numbers and trigonometric functions. These relationships are essential in mathematics, physics, and engineering, providing a unified framework for understanding and manipulating complex numbers and their interactions with periodic functions. The table below shows some of these connections, but there are more!\n",
    "| **Description** | **Statement** |\n",
    "|---|---|\n",
    "| Euler’s formula | $$e^{j\\theta}=\\mathrm{cos}(\\theta)+j\\mathrm{sin}(\\theta)$$ |\n",
    "| Euler’s identity | $$e^{j\\pi}+1=0$$ |\n",
    "| Complex number  (exponential form) | $$z=re^{j\\theta}$$ |\n",
    "| Complex exponential | $$e^{x+jy}=e^x\\mathrm{cos}y+j\\mathrm{sin}y$$ |\n",
    "| Sine (exponential form) | $$\\mathrm{sin}(\\theta)=\\frac{e^{j\\theta}-e^{-j\\theta}}{2j}$$ |\n",
    "| Cosine  (exponential form) | $$\\mathrm{cos}(\\theta)=\\frac{e^{j\\theta}+e^{-j\\theta}}{2}$$ |\n",
    "| Tangent  (exponential form) | $$\\mathrm{tan}(\\theta)=\\frac{e^{j\\theta}-e^{-j\\theta}}{j(e^{j\\theta}+e^{-j\\theta})}$$ |"
   ]
  }
 ],
 "metadata": {
  "language_info": {
   "name": "python"
  }
 },
 "nbformat": 4,
 "nbformat_minor": 2
}
