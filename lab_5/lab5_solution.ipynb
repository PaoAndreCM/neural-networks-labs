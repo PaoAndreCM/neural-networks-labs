{
 "cells": [
  {
   "cell_type": "markdown",
   "metadata": {},
   "source": [
    "# Lab 5"
   ]
  },
  {
   "cell_type": "markdown",
   "metadata": {},
   "source": [
    "## Problem 1"
   ]
  },
  {
   "cell_type": "markdown",
   "metadata": {},
   "source": [
    "**a) Using the inverse matrix to calculate a past state**"
   ]
  },
  {
   "cell_type": "markdown",
   "metadata": {},
   "source": [
    "In theory:"
   ]
  },
  {
   "cell_type": "markdown",
   "metadata": {},
   "source": [
    "$\\vec{v}_{n+1} = M \\cdot \\vec{v}_n$"
   ]
  },
  {
   "cell_type": "markdown",
   "metadata": {},
   "source": [
    "$\\vec{v}_{0} = M \\cdot \\vec{v}_{-1}$"
   ]
  },
  {
   "cell_type": "markdown",
   "metadata": {},
   "source": [
    "Multiplying with the inverse of $M$ to solve for $\\vec{v}_{-1}$"
   ]
  },
  {
   "cell_type": "markdown",
   "metadata": {},
   "source": [
    "$ M^{-1} \\cdot \\vec{v}_{0} = M^{-1} \\cdot M \\cdot \\vec{v}_{-1}$"
   ]
  },
  {
   "cell_type": "markdown",
   "metadata": {},
   "source": [
    "We get:"
   ]
  },
  {
   "cell_type": "markdown",
   "metadata": {},
   "source": [
    "$ M^{-1} \\cdot \\vec{v}_{0} = \\vec{v}_{-1}$"
   ]
  },
  {
   "cell_type": "markdown",
   "metadata": {},
   "source": [
    "Testing with python:"
   ]
  },
  {
   "cell_type": "code",
   "execution_count": 4,
   "metadata": {},
   "outputs": [
    {
     "name": "stdout",
     "output_type": "stream",
     "text": [
      "state prior to initial state: [0.05136107 9.40292758 0.54571135]\n",
      "10.000000000000002\n",
      "7.3354314119893465\n"
     ]
    }
   ],
   "source": [
    "import numpy as np\n",
    "\n",
    "v0 = np.array( [1.,8.,1.] )\n",
    "M = np.array( [[0.95,0.1,0.02],[0.04,0.85,0.01],[0.01,0.05,0.97] ] )\n",
    "\n",
    "vminus1 = np.dot(np.linalg.inv(M),v0)\n",
    "print(f\"state prior to initial state: {vminus1}\")\n",
    "print(np.sum(vminus1))\n",
    "print(np.linalg.det(M)*np.linalg.norm(vminus1))\n",
    "\n",
    "# normalized_state = vminus1 / np.sum(vminus1)\n",
    "# print(normalized_state)\n",
    "# print(np.sum(normalized_state))"
   ]
  },
  {
   "cell_type": "markdown",
   "metadata": {},
   "source": [
    "**What's the problem with this state?** "
   ]
  },
  {
   "cell_type": "markdown",
   "metadata": {},
   "source": [
    "**b) Adding dimension check for `v0` and `M` to the `Markov` constructor**"
   ]
  },
  {
   "cell_type": "code",
   "execution_count": 5,
   "metadata": {},
   "outputs": [],
   "source": [
    "import matplotlib.pyplot as plt\n",
    "import numpy as np\n",
    "from numpy.linalg import det, norm, matrix_power\n",
    "import pandas as pd\n",
    "\n",
    "class Markov():\n",
    "    def __init__(self, v0, M: np.array, colors = []):\n",
    "        Mrows, Mcolumns = M.shape\n",
    "        if Mrows == Mcolumns: # checks M is a square matrix\n",
    "            if len(v0) == Mcolumns: # checks number of vector elements is equal to number of columns in M\n",
    "                self.__i = 0 \n",
    "                self.__v = [v0]\n",
    "                self.__M = M\n",
    "                self.colors = colors\n",
    "            else:\n",
    "                raise ValueError(\"Vector length does not equal Matrix number of columns.\")\n",
    "        else:\n",
    "            raise ValueError(\"Matrix is not square.\") \n",
    "               \n",
    "    def __str__(self):\n",
    "        return f\"Timestep: {self.__i}\\nState: {self.__v[-1]}\"\n",
    "    \n",
    "    def evolve(self):\n",
    "        self.__v.append( np.dot(self.__M, self.__v[-1]) )\n",
    "        self.__i += 1\n",
    "\n",
    "    def batch_evolve(self, time_steps):\n",
    "        for n in range(time_steps):\n",
    "            self.evolve()\n",
    "\n",
    "    def calculate_state(self, time_steps): # just calculates the state but doesn't add it to self__v\n",
    "        return np.dot(matrix_power(self.__M,time_steps), self.__v[0])\n",
    "\n",
    "    def num_of_voters(self):\n",
    "        return [np.sum(voters) for voters in self.__v]\n",
    "\n",
    "    def abs(self):\n",
    "        return [(det(self.__M)*norm(voters)) for voters in self.__v] # Talked about this in class but can't remember what it is for\n",
    "    \n",
    "    def plot(self):\n",
    "        df = pd.DataFrame(self.__v, columns=self.colors)\n",
    "        for column, color in zip(df.columns, self.colors):\n",
    "            plt.plot(df.index, df[column], label=column, color=color)\n",
    "        plt.xlabel(\"Timestep\")\n",
    "        plt.ylabel(\"Number of voters (in millions)\")\n",
    "        plt.legend()\n",
    "        plt.show()"
   ]
  },
  {
   "cell_type": "markdown",
   "metadata": {},
   "source": [
    "**c) Verifying that total number of voters remains constant**"
   ]
  },
  {
   "cell_type": "code",
   "execution_count": 6,
   "metadata": {},
   "outputs": [
    {
     "name": "stdout",
     "output_type": "stream",
     "text": [
      "[10.0, 10.0, 10.0, 9.999999999999998, 10.0, 10.0, 9.999999999999998, 9.999999999999996, 9.999999999999998, 9.999999999999996, 9.999999999999996]\n",
      "[6.327001109530487, 5.613835444374193, 5.137215734896528, 4.8404815180771745, 4.672292335224326, 4.590190577034541, 4.562129468834931, 4.565717795411968, 4.586241331833888, 4.614506690535556, 4.645038734152439]\n"
     ]
    }
   ],
   "source": [
    "# def numOfVoters(markov):\n",
    "#     numOfVotersList = []\n",
    "#     for timeStep in markov._Markov__v: # wrong, should be: `for timeStep in range(len(markov._Markov__v)):`\n",
    "#         numOfVotersList.append(np.sum(markov._Markov__v[timeStep]))\n",
    "#     return numOfVotersList\n",
    "neurostan = Markov(v0, M, [\"green\",\"blue\",\"red\"])\n",
    "\n",
    "# def numOfVoters(markov):\n",
    "#     return [np.sum(voters) for voters in markov._Markov__v] # accessing private variables\n",
    "\n",
    "for i in range(10):\n",
    "    neurostan.evolve()\n",
    "    # print(neurostan)\n",
    "    \n",
    "# print(numOfVoters(neurostan)) \n",
    "print(neurostan.num_of_voters()) # does the same as above but using a method from the class, therefore it doesn't access private variables.\n",
    "print(neurostan.abs())\n",
    "\n"
   ]
  },
  {
   "cell_type": "markdown",
   "metadata": {},
   "source": [
    "**d) Calculating the next n steps via a single call**"
   ]
  },
  {
   "cell_type": "markdown",
   "metadata": {},
   "source": [
    "As we know, given an initial state $\\vec{v}_0$ and a transition matrix $M$, we can we can find the next state ($\\vec{v}_1$) by calculating the dot product between $M$ and $\\vec{v}_0$:"
   ]
  },
  {
   "cell_type": "markdown",
   "metadata": {},
   "source": [
    "$\\vec{v}_1 = M \\cdot \\vec{v}_0$"
   ]
  },
  {
   "cell_type": "markdown",
   "metadata": {},
   "source": [
    "And to find the second state $\\vec{v}_2$, we find the dot product between $M$ and $\\vec{v}_1$:"
   ]
  },
  {
   "cell_type": "markdown",
   "metadata": {},
   "source": [
    "$\\vec{v}_2 = M \\cdot \\vec{v}_1$"
   ]
  },
  {
   "cell_type": "markdown",
   "metadata": {},
   "source": [
    "We can replace $\\vec{v}_1$ in this second equation, and get:"
   ]
  },
  {
   "cell_type": "markdown",
   "metadata": {},
   "source": [
    "$\\vec{v}_2 = M \\cdot M \\cdot \\vec{v}_0$"
   ]
  },
  {
   "cell_type": "markdown",
   "metadata": {},
   "source": [
    "$\\vec{v}_2 = M^2 \\cdot \\vec{v}_0$"
   ]
  },
  {
   "cell_type": "markdown",
   "metadata": {},
   "source": [
    "If we wanted to get $\\vec{v}_3$:"
   ]
  },
  {
   "cell_type": "markdown",
   "metadata": {},
   "source": [
    "$\\vec{v}_3 = M \\cdot \\vec{v}_2$"
   ]
  },
  {
   "cell_type": "markdown",
   "metadata": {},
   "source": [
    "$\\vec{v}_3 = M \\cdot M^2 \\cdot \\vec{v}_0$"
   ]
  },
  {
   "cell_type": "markdown",
   "metadata": {},
   "source": [
    "$\\vec{v}_3 = M^3 \\cdot \\vec{v}_0$"
   ]
  },
  {
   "cell_type": "markdown",
   "metadata": {},
   "source": [
    "And so on and so forth, so for any state $\\vec{v}_n$, the state can be calculated via"
   ]
  },
  {
   "cell_type": "markdown",
   "metadata": {},
   "source": [
    "$\\vec{v}_n = M^n \\cdot \\vec{v}_0$"
   ]
  },
  {
   "cell_type": "markdown",
   "metadata": {},
   "source": [
    "###### Note: I did not implement a function to calculate a given state using the above formula, as that would mean skipping all the states in the middle, which would not be added to the internal list of states `self.__v`. So I implemented the method `batch_evolve` by using a simple loop and the already existing function `evolve`."
   ]
  },
  {
   "cell_type": "code",
   "execution_count": 7,
   "metadata": {},
   "outputs": [
    {
     "name": "stdout",
     "output_type": "stream",
     "text": [
      "[4.27856322 2.91124846 2.81018832]\n",
      "Timestep: 100\n",
      "State: [4.55205653 1.47904873 3.96889474]\n"
     ]
    }
   ],
   "source": [
    "print(neurostan.calculate_state(8)) # Actually I did\n",
    "\n",
    "neurostan.batch_evolve(90)\n",
    "print(neurostan)"
   ]
  },
  {
   "cell_type": "markdown",
   "metadata": {},
   "source": [
    "**Ploting the number of voters per step**\n"
   ]
  },
  {
   "cell_type": "code",
   "execution_count": 8,
   "metadata": {},
   "outputs": [
    {
     "data": {
      "image/png": "[encoded data removed]",
      "text/plain": [
       "<Figure size 640x480 with 1 Axes>"
      ]
     },
     "metadata": {},
     "output_type": "display_data"
    }
   ],
   "source": [
    "neurostan.plot()"
   ]
  },
  {
   "cell_type": "markdown",
   "metadata": {},
   "source": [
    "The graph shows the evolution in time of the number of voters per party in the country of Neurostan. Altough in the initial state the vast majority of the voters identified with the centrist blue party, the nation quickly polarized, and by the 20th week, the nation was mostly divided between the left-wing green party, and the right-wing red party. It is interesting to note that after the 40th week approximately, the number of voters for each party remained more or less stable, after which it quickly reached a point of invariability, or the final state of the system."
   ]
  },
  {
   "cell_type": "markdown",
   "metadata": {},
   "source": [
    "**Why does the eigenvector vλ=1 associated with the eigenvalue λ = 1 represent the final state of the system v∞? Use np.linalg.eig(M) to calculate vλ=1**"
   ]
  },
  {
   "cell_type": "markdown",
   "metadata": {},
   "source": [
    "An eigenvector of a matrix is a non-zero vector that, when the matrix is multiplied by it, results in a scaled version of the original vector (the vector might only be scaled by a scalar, not changed in direction).\n",
    "\n",
    "The scalar by which the vector is scaled is called the eigenvalue."
   ]
  },
  {
   "cell_type": "code",
   "execution_count": 13,
   "metadata": {},
   "outputs": [
    {
     "name": "stdout",
     "output_type": "stream",
     "text": [
      "EigResult(eigenvalues=array([0.81847933, 1.        , 0.95152067]), eigenvectors=array([[ 0.5680991 , -0.73102814, -0.6105343 ],\n",
      "       [-0.79193493, -0.23758414, -0.16423887],\n",
      "       [ 0.22383583, -0.63964962,  0.77477317]]))\n",
      "1\n",
      "[-0.73102814 -0.23758414 -0.63964962]\n",
      "-1.6082619021867632\n",
      "[4.62446056 1.49886027 3.87667917]\n",
      "Stationary Distribution (v∞): [4.54545455 1.47727273 3.97727273]\n"
     ]
    }
   ],
   "source": [
    "\n",
    "# Calculate eigenvalues and eigenvectors\n",
    "eigenvalues, eigenvectors = np.linalg.eig(M)\n",
    "print(np.linalg.eig(M))\n",
    "\n",
    "# Find the index of the eigenvalue 1 (or a value very close to 1)\n",
    "index = np.argmin(np.abs(eigenvalues - 1))\n",
    "print(index)\n",
    "\n",
    "# Extract the corresponding eigenvector\n",
    "stationary_distribution = np.real(eigenvectors[:, index])\n",
    "print(stationary_distribution)\n",
    "print(np.sum(stationary_distribution))\n",
    "\n",
    "# Normalize the eigenvector to ensure it is a valid probability distribution\n",
    "stationary_distribution /= np.sum(stationary_distribution) \n",
    "stationary_distribution *= 10\n",
    "\n",
    "print(neurostan.calculate_state(50))\n",
    "\n",
    "print(\"Stationary Distribution (v∞):\", stationary_distribution)\n",
    "\n"
   ]
  },
  {
   "cell_type": "markdown",
   "metadata": {},
   "source": [
    "## Problem 2\n"
   ]
  },
  {
   "cell_type": "markdown",
   "metadata": {},
   "source": [
    "**Creation of a class `fraction`**"
   ]
  },
  {
   "cell_type": "code",
   "execution_count": 10,
   "metadata": {},
   "outputs": [],
   "source": [
    "import copy\n",
    "\n",
    "class frac():\n",
    "    def __init__(self, p, q):\n",
    "        if q != 0:\n",
    "            self.__p = p\n",
    "            self.__q = q\n",
    "        else:\n",
    "            raise ValueError(\"Invalid fraction, denominator cannot be 0.\")\n",
    "\n",
    "    def  __str__(self):\n",
    "        return f\"{self.__p}/{self.__q}\"\n",
    "    \n",
    "    def __add__(self,b):\n",
    "        if not isinstance(b, frac):\n",
    "            raise TypeError(\"Unsuported operand type. Use a frac object.\")\n",
    "        \n",
    "        return frac(self.__p * b.__q + self.__q * b.__p, self.__q * b.__q).short()\n",
    "    \n",
    "    def gre_com_div(self):\n",
    "        p_copy = copy.copy(self.__p) \n",
    "        q_copy = copy.copy(self.__q)\n",
    "        while q_copy:\n",
    "            p_copy, q_copy = q_copy, p_copy % q_copy\n",
    "        return abs(p_copy)\n",
    "\n",
    "    def short(self):\n",
    "        gcd = self.gre_com_div()\n",
    "        return frac(self.__p / gcd, self.__q / gcd)"
   ]
  },
  {
   "cell_type": "code",
   "execution_count": 14,
   "metadata": {},
   "outputs": [
    {
     "name": "stdout",
     "output_type": "stream",
     "text": [
      "53.0/63.0\n"
     ]
    }
   ],
   "source": [
    "frac1 = frac(5, 9)\n",
    "frac2 = frac(2, 7)\n",
    "\n",
    "sum_frac = frac1 + frac2\n",
    "print(sum_frac)"
   ]
  }
 ],
 "metadata": {
  "kernelspec": {
   "display_name": "base",
   "language": "python",
   "name": "python3"
  },
  "language_info": {
   "codemirror_mode": {
    "name": "ipython",
    "version": 3
   },
   "file_extension": ".py",
   "mimetype": "text/x-python",
   "name": "python",
   "nbconvert_exporter": "python",
   "pygments_lexer": "ipython3",
   "version": "3.11.4"
  }
 },
 "nbformat": 4,
 "nbformat_minor": 2
}
