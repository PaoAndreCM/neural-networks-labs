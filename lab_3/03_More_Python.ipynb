{
 "cells": [
  {
   "cell_type": "markdown",
   "metadata": {},
   "source": [
    "# Lecture 3: More Python"
   ]
  },
  {
   "cell_type": "markdown",
   "metadata": {},
   "source": [
    "## Coding style\n",
    "\n",
    "I won't bother you with my personal coding preferences ... instead, please refer to the official Python coding style guide available at:\n",
    "\n",
    "https://www.python.org/dev/peps/pep-0008/\n",
    "\n",
    "Generally speaking, a consistent coding style (naming, spacing, intendation, ...) is always encouraged as it makes your code more readable, improves maintainability as well as scalability."
   ]
  },
  {
   "cell_type": "markdown",
   "metadata": {
    "tags": []
   },
   "source": [
    "## Arbitrary precision floats\n",
    "\n",
    "By default, Python supports arbitrary length integers. For arbitrary precision float operations, we can use the ``mpmath`` library  which allows us to work with floats with a defined number of decimals:"
   ]
  },
  {
   "cell_type": "code",
   "execution_count": null,
   "metadata": {},
   "outputs": [],
   "source": [
    "from mpmath import mp\n",
    "\n",
    "mp.dps = 1024 # mp-floats will have 1024 digits"
   ]
  },
  {
   "cell_type": "markdown",
   "metadata": {},
   "source": [
    "To create an mp-float object, just use the mpf method:"
   ]
  },
  {
   "cell_type": "code",
   "execution_count": null,
   "metadata": {},
   "outputs": [],
   "source": [
    "mpFloat = mp.mpf(2)\n",
    "\n",
    "print(type(mpFloat),mpFloat)"
   ]
  },
  {
   "cell_type": "markdown",
   "metadata": {},
   "source": [
    "Basic operators will be overloaded to deal with mp-floats and regular floats will be converted if necessary:"
   ]
  },
  {
   "cell_type": "code",
   "execution_count": null,
   "metadata": {
    "tags": []
   },
   "outputs": [],
   "source": [
    "frac = 1/mp.mpf(3)\n",
    "\n",
    "print(\"Type: \", type(frac))\n",
    "print(\"Length: \", len(str(frac))) # Note that we have to typecast frac first before we can apply the len function\n",
    "print(frac)"
   ]
  },
  {
   "cell_type": "markdown",
   "metadata": {},
   "source": [
    "Furthermore, ``mpmath`` provides all basic mathematical constants and functions that we already know from the ``math`` library:"
   ]
  },
  {
   "cell_type": "code",
   "execution_count": null,
   "metadata": {},
   "outputs": [],
   "source": [
    "print(mp.sqrt(2) + mp.exp(mp.pi)) # No typecast from float to mpfloat required ..."
   ]
  },
  {
   "cell_type": "markdown",
   "metadata": {},
   "source": [
    "## Formatted output"
   ]
  },
  {
   "cell_type": "markdown",
   "metadata": {},
   "source": [
    "For a quick look, unformatted output is just fine. But at times, we would like to have more control, e.g. regarding the number format or the display precision of floats. Python supports classic C style format specifiers and escape sequences:"
   ]
  },
  {
   "cell_type": "code",
   "execution_count": null,
   "metadata": {},
   "outputs": [],
   "source": [
    "a = 1\n",
    "b = 10\n",
    "\n",
    "print(\"%1d divided by %2d is %1.6f\" %(a,b,a/b))"
   ]
  },
  {
   "cell_type": "markdown",
   "metadata": {},
   "source": [
    "Strings also provide the ``format`` method as an alternative that is more on line with the zen of Python: "
   ]
  },
  {
   "cell_type": "code",
   "execution_count": null,
   "metadata": {},
   "outputs": [],
   "source": [
    "import math\n",
    "\n",
    "n = 10\n",
    "i = 2\n",
    "pi = math.pi\n",
    "\n",
    "print(\"The first {0:2d} digits of the {1:1d}nd best number are: {2:1.10f}\".format(n+1, i, pi))"
   ]
  },
  {
   "cell_type": "markdown",
   "metadata": {},
   "source": [
    "The latest addition to the ways of producing formatted output in Python (_there should be one obvious way to do it ..._) are f-strings:"
   ]
  },
  {
   "cell_type": "code",
   "execution_count": null,
   "metadata": {},
   "outputs": [],
   "source": [
    "a = 'allow'\n",
    "b = 2\n",
    "\n",
    "print(f\"f-strings {a} {b} insert you variables into strings just where you need them. Smash!\")"
   ]
  },
  {
   "cell_type": "markdown",
   "metadata": {},
   "source": [
    "## String operations"
   ]
  },
  {
   "cell_type": "markdown",
   "metadata": {},
   "source": [
    "In Python, strings just work like lists of characters:"
   ]
  },
  {
   "cell_type": "code",
   "execution_count": null,
   "metadata": {
    "scrolled": true
   },
   "outputs": [],
   "source": [
    "name = input(\"Enter your name: \") \n",
    "name = name.strip() # Remove leading and trailing whitespaces\n",
    "\n",
    "print(\"\\nHello \"+name+\"!\")"
   ]
  },
  {
   "cell_type": "markdown",
   "metadata": {},
   "source": [
    "Using the ``split`` method, we can pass a string at which the input string will be chopped into list elements:"
   ]
  },
  {
   "cell_type": "code",
   "execution_count": null,
   "metadata": {
    "scrolled": true
   },
   "outputs": [],
   "source": [
    "names = name.split(\" \") # Split string into a list of substrings\n",
    "\n",
    "print(\"First name:\", names[0])\n",
    "print(\"Last name:\", names[-1])\n",
    "\n",
    "print(\"Your name contains\",len(name),\"characters, including\",name.count(\" \"),\"whitespace(s)\")\n",
    "\n",
    "print(\"First character:\", name[0])\n",
    "print(\"Last character:\", name[-1]) # -1 refers to the last item, -2 to the second last, ...\n",
    "\n",
    "print(\"Reversed:\", name[::-1])\n",
    "\n",
    "print(\"Replace a by u:\", name.replace(\"a\", \"u\"))"
   ]
  },
  {
   "cell_type": "markdown",
   "metadata": {},
   "source": [
    "Even numbers can be converted to strings which is an elegant way to calculate the cross-sum:"
   ]
  },
  {
   "cell_type": "code",
   "execution_count": null,
   "metadata": {},
   "outputs": [],
   "source": [
    "primes = [1,2,3,5,7,11,13,17,19,23,29] # List of prime numbers\n",
    "\n",
    "for prime in primes: # Iterate through the list\n",
    "\n",
    "    csum = 0 # Cross-sum accumulation variable\n",
    "    pstr = str(prime) # Convert prime to string\n",
    "    \n",
    "    for dig in pstr: # Iterate through every digit of\n",
    "        csum += int(dig)\n",
    "        \n",
    "    print(\"The cross sum of\",prime,\"is\",csum)"
   ]
  },
  {
   "cell_type": "markdown",
   "metadata": {},
   "source": [
    "Lists of strings can be joined back to a single string. We only need to provide a joining character:"
   ]
  },
  {
   "cell_type": "code",
   "execution_count": null,
   "metadata": {},
   "outputs": [],
   "source": [
    "stringList = [\"I\", \"need\", \"more\", \"mate\"] # A random list of strings\n",
    "\n",
    "string = \" \".join(stringList) # Turn the list of strings into a single string\n",
    "\n",
    "print(stringList)\n",
    "print(string.lower())\n",
    "print(string.upper())\n",
    "print(string.split()) # And back to a list"
   ]
  },
  {
   "cell_type": "markdown",
   "metadata": {},
   "source": [
    "Strides and slicing work just like oridnary lists:"
   ]
  },
  {
   "cell_type": "code",
   "execution_count": null,
   "metadata": {},
   "outputs": [],
   "source": [
    "alphabet = \"abcdefghijklmnopqrstuvwxyz\"\n",
    "\n",
    "print( alphabet[::2] ) # Stride: Every 2nd character\n",
    "print( alphabet[:10:2] ) # Every 2nd char of the first ten elements"
   ]
  },
  {
   "cell_type": "markdown",
   "metadata": {},
   "source": [
    "A few lines of code are all you need to calculate some basic text statistics such as the distribution of characters:"
   ]
  },
  {
   "cell_type": "code",
   "execution_count": null,
   "metadata": {},
   "outputs": [],
   "source": [
    "alphabet = \"abcdefghijklmnopqrstuvwxyz\"\n",
    "text = \"This is some random text I have typed for illustrative purposes. Of course I could make it longer and longer but it quickly starts getting tiresome. \"\\\n",
    "    \"One more sentence and we are done with that. Just one more sentence. Cut the crap, I cannot take it anymore. \"\\\n",
    "    \"This is the final sentence of this never-ending string.\"\n",
    "\n",
    "stat = []\n",
    "\n",
    "print(text)\n",
    "print(\"Some statistics:\")\n",
    "\n",
    "for char in alphabet:\n",
    "    freq = text.count(char)\n",
    "    stat.append( freq )\n",
    "    print(\"Character\",char,\":\", freq)"
   ]
  },
  {
   "cell_type": "code",
   "execution_count": null,
   "metadata": {},
   "outputs": [],
   "source": [
    "import matplotlib.pyplot as plt\n",
    "%matplotlib inline\n",
    "\n",
    "idx = range(0, len(alphabet)) # Character indices\n",
    "alphaList = list(alphabet) # Typecasting strings into lists results in a list of individual chars\n",
    "\n",
    "plt.figure(figsize=(15,10)) # Create a figure\n",
    "plt.vlines(idx, 0, stat, color='blue')\n",
    "plt.xlabel('Letter')\n",
    "plt.xticks(idx, labels=alphaList) # Instead of indices, show the list of characters as x ticks\n",
    "plt.ylabel('N')\n",
    "plt.show()"
   ]
  },
  {
   "cell_type": "markdown",
   "metadata": {},
   "source": [
    "## File IO"
   ]
  },
  {
   "cell_type": "markdown",
   "metadata": {},
   "source": [
    "At times, we need to store data to the harddrive of our computer. Say, we have created lists of x and y values of our favourite function $f(x) = x \\, \\exp \\left( -x^2 \\right)$:"
   ]
  },
  {
   "cell_type": "code",
   "execution_count": null,
   "metadata": {},
   "outputs": [],
   "source": [
    "import math\n",
    "\n",
    "def f(x):\n",
    "    return x*math.exp(-x**2)\n",
    "\n",
    "x = [ 0.01*xi for xi in range(500) ]\n",
    "y = list(map(f,x))"
   ]
  },
  {
   "cell_type": "markdown",
   "metadata": {},
   "source": [
    "Now we would like to store the results in a file named ``vals.txt``. Every line shall contain a x and a y value, separated by a blank space. For that, we create a file object in write mode and use the ``write`` method to write adequately formatted strings:"
   ]
  },
  {
   "cell_type": "code",
   "execution_count": null,
   "metadata": {},
   "outputs": [],
   "source": [
    "file = open(\"vals.csv\",\"w\") # csv: Comma separated values\n",
    "\n",
    "for vals in zip(x, y):\n",
    "    # strLine = str(vals[0])+\" \"+str(vals[1])+\"\\n\" # Traditional string construction with typecast\n",
    "    strLine = f\"{vals[0]},{vals[1]}\\n\" # Modern f-string approach\n",
    "    file.write(strLine)\n",
    "    \n",
    "file.close()"
   ]
  },
  {
   "cell_type": "markdown",
   "metadata": {},
   "source": [
    "If you like C-style loops, the next cell may float your boat:"
   ]
  },
  {
   "cell_type": "code",
   "execution_count": null,
   "metadata": {},
   "outputs": [],
   "source": [
    "file = open(\"vals.csv\",\"w\")\n",
    "\n",
    "for i in range(len(x)):\n",
    "    strLine = \"{},{}\\n\".format(x[i],y[i])\n",
    "    file.write(strLine)\n",
    "    \n",
    "file.close()"
   ]
  },
  {
   "cell_type": "markdown",
   "metadata": {},
   "source": [
    "On the other hand, by combining ```zip``` and ```join``` we can get rid of indices altogether and deal with an arbitrary number of columns. Using the ```with``` block, we can further drop the explicit file pointer close statement:"
   ]
  },
  {
   "cell_type": "code",
   "execution_count": null,
   "metadata": {},
   "outputs": [],
   "source": [
    "# May look ugly for just two columns, but really shines once there are more ...\n",
    "with open(\"vals.csv\",\"w\") as file:\n",
    "    file.write(\"\\n\".join( str(line)[1:-1] for line in zip(x,y)) ) # String slicing removes tuple parentheses\n",
    "    \n",
    "file.close()"
   ]
  },
  {
   "cell_type": "markdown",
   "metadata": {},
   "source": [
    "Now we go the other way: Let's get the data back from the harddisk to our RAM. The Python way is to iterate through every line of the file. Before we read in all data, let's see what we have here:"
   ]
  },
  {
   "cell_type": "code",
   "execution_count": null,
   "metadata": {},
   "outputs": [],
   "source": [
    "del x\n",
    "del y\n",
    "\n",
    "file = open(\"vals.csv\",\"r\")\n",
    "\n",
    "for line in file:\n",
    "    print(line, type(line))\n",
    "    break\n",
    "\n",
    "file.close()"
   ]
  },
  {
   "cell_type": "markdown",
   "metadata": {},
   "source": [
    "So we are dealing with a simple string that we need to parse back into lists. First, we apply the ``strip`` method to get rid of trailing and leading whitespaces as well as escape sequences. Then we use the ``split`` method to divide the string into a list of two entries, the first being column 1 and the second being column 2:"
   ]
  },
  {
   "cell_type": "code",
   "execution_count": null,
   "metadata": {
    "tags": []
   },
   "outputs": [],
   "source": [
    "x = []\n",
    "y = []\n",
    "\n",
    "file = open(\"vals.csv\",\"r\")\n",
    "\n",
    "for line in file:\n",
    "    line.strip() # Remove trailing and leading whitespaces as well as the newline char\n",
    "    cols = line.split(\",\") # Split columns\n",
    "    x.append( float(cols[0]) )\n",
    "    y.append( float(cols[1]) )\n",
    "\n",
    "file.close()\n",
    "\n",
    "print(len(x), len(y))"
   ]
  },
  {
   "cell_type": "markdown",
   "metadata": {},
   "source": [
    "Similarily, we can read entire files into a single string and process it afterwards:"
   ]
  },
  {
   "cell_type": "code",
   "execution_count": null,
   "metadata": {},
   "outputs": [],
   "source": [
    "file = open(\"metaphysics.txt\", \"r\") # open the file in read mode (r)\n",
    "\n",
    "contents = file.read()\n",
    "\n",
    "file.close()"
   ]
  },
  {
   "cell_type": "markdown",
   "metadata": {},
   "source": [
    "What did the ``read`` method return?"
   ]
  },
  {
   "cell_type": "code",
   "execution_count": null,
   "metadata": {},
   "outputs": [],
   "source": [
    "print(type(contents))\n",
    "print(len(contents))"
   ]
  },
  {
   "cell_type": "markdown",
   "metadata": {},
   "source": [
    "So we are dealing with an ordinary string of 6734 characters:"
   ]
  },
  {
   "cell_type": "code",
   "execution_count": null,
   "metadata": {},
   "outputs": [],
   "source": [
    "print(contents)"
   ]
  },
  {
   "cell_type": "markdown",
   "metadata": {},
   "source": [
    "## Dictionaries\n",
    "\n",
    "When dealing with arrays of data, there are times when we do not really care about the index of some element and the exact order but would rather like to access elements using a string. A classic approach to that problem is to create two arrays which then share one index:"
   ]
  },
  {
   "cell_type": "code",
   "execution_count": null,
   "metadata": {},
   "outputs": [],
   "source": [
    "cName = [\"XBT\", \"ETH\", \"LTC\", \"USDT\", \"XRP\"]\n",
    "balance = [0.08, 0.04, 0.1, 51, 30]\n",
    "\n",
    "for coin in zip(cName, balance):\n",
    "    print(\"My wallet has\",coin[1],coin[0])"
   ]
  },
  {
   "cell_type": "markdown",
   "metadata": {},
   "source": [
    "While this may work out, the downside is that data that forms a unit (the name of the coin and its balance) is being separated. For cases like that, Python features the list-like ``dictionary`` object whose elements are accessed via strings rather than integers:"
   ]
  },
  {
   "cell_type": "code",
   "execution_count": null,
   "metadata": {},
   "outputs": [],
   "source": [
    "wallet = { \"XBT\": 0.08, \"ETH\": 0.04, \"LTC\": 0.1, \"USDT\": 51, \"XRP\": 30}\n",
    "\n",
    "wallet = {}\n",
    "\n",
    "for coin in zip(cName, balance):\n",
    "    wallet[coin[0]] = coin[1]"
   ]
  },
  {
   "cell_type": "markdown",
   "metadata": {},
   "source": [
    "Note that integer-typed keys are still supported, you can even mix string keys and integer keys. New elements can be added at any time by assigning a value to a key:"
   ]
  },
  {
   "cell_type": "code",
   "execution_count": null,
   "metadata": {},
   "outputs": [],
   "source": [
    "wallet[\"BCH\"] = 0.05\n",
    "\n",
    "for coin in wallet: # Iterate through all pairs of elements within the dictionary\n",
    "    print(\"My wallet has\",wallet[coin],coin)"
   ]
  },
  {
   "cell_type": "markdown",
   "metadata": {},
   "source": [
    "Any kind of object can be added to a dictionary, even dictionaries. Such nested dictionaries behave just like nested lists and require a second set of brackets to access elements within the nested dictionary. To remove a certain element, use ``del`` followed by the name of the dictionary and the key:"
   ]
  },
  {
   "cell_type": "code",
   "execution_count": null,
   "metadata": {},
   "outputs": [],
   "source": [
    "del wallet[\"BCH\"]\n",
    "\n",
    "print(wallet)"
   ]
  },
  {
   "cell_type": "markdown",
   "metadata": {},
   "source": [
    "There are a couple of useful methods when dealing with dictionaries:"
   ]
  },
  {
   "cell_type": "code",
   "execution_count": null,
   "metadata": {},
   "outputs": [],
   "source": [
    "print(dir(wallet))"
   ]
  },
  {
   "cell_type": "markdown",
   "metadata": {},
   "source": [
    "``items`` returns a list of tuple of all key-element pairs within the dictionary, ``keys`` returns a list of all keys that are being used within the dictionary, ``pop`` takes a key, returns the associated element and removes it from the dictionary. Feel free to try them at home ...\n",
    "\n",
    "One particular use cases of dictionaries is some sort of database to store and return information that would otherwise require lengthy conditional blocks:"
   ]
  },
  {
   "cell_type": "code",
   "execution_count": null,
   "metadata": {},
   "outputs": [],
   "source": [
    "capital = {\"Germany\" : \"Berlin\", \"Poland\" : \"Warsaw\", \"Czech Republic\" : \"Prague\",\\\n",
    "           \"Austria\" : \"Vienna\", \"Switzerland\" : \"Bern\", \"France\" : \"Paris\",\\\n",
    "           \"Luxembourg\" : \"Luxembourg\", \"Belgium\" : \"Bruxelles\",\\\n",
    "           \"Netherlands\" : \"Amsterdam\", \"Denmark\" : \"Copenhagen\"}\n",
    "\n",
    "for country in capital:\n",
    "    print(\"The capital of\",country,\"is\",capital[country])"
   ]
  }
 ],
 "metadata": {
  "kernelspec": {
   "display_name": "Python 3",
   "language": "python",
   "name": "python3"
  },
  "language_info": {
   "codemirror_mode": {
    "name": "ipython",
    "version": 3
   },
   "file_extension": ".py",
   "mimetype": "text/x-python",
   "name": "python",
   "nbconvert_exporter": "python",
   "pygments_lexer": "ipython3",
   "version": "3.11.4"
  }
 },
 "nbformat": 4,
 "nbformat_minor": 4
}
